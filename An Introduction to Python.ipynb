{
  "nbformat": 4,
  "nbformat_minor": 0,
  "metadata": {
    "colab": {
      "name": "Python -1.ipynb",
      "provenance": [],
      "collapsed_sections": [],
      "authorship_tag": "ABX9TyM7bLZcd2Uh9GdvPT2Wxoa7",
      "include_colab_link": true
    },
    "kernelspec": {
      "name": "python3",
      "display_name": "Python 3"
    }
  },
  "cells": [
    {
      "cell_type": "markdown",
      "metadata": {
        "id": "view-in-github",
        "colab_type": "text"
      },
      "source": [
        "<a href=\"https://colab.research.google.com/github/hasretdoguer/AYBU-SDS-4thWEEK/blob/main/An%20Introduction%20to%20Python.ipynb\" target=\"_parent\"><img src=\"https://colab.research.google.com/assets/colab-badge.svg\" alt=\"Open In Colab\"/></a>"
      ]
    },
    {
      "cell_type": "markdown",
      "metadata": {
        "id": "9Jsh7jcvWh1j"
      },
      "source": [
        "## **What is Programming?**"
      ]
    },
    {
      "cell_type": "markdown",
      "metadata": {
        "id": "PiouMqBYXWJq"
      },
      "source": [
        "\n",
        "\n",
        "\n",
        "\n",
        "> Programming is a way to “instruct the computer to perform various tasks”.\n",
        "\n",
        "\n",
        "\n",
        "**Instruct the computer ??** \n",
        "\n",
        "This basically means that you provide the computer a set of instructions that are written in a language that the computer can understand.\n",
        "The instructions could be: Adding 2 numbers,Rounding off a number, etc.\n",
        "\n",
        "Just like we humans can understand a few languages (English, Spanish, Mandarin, French, etc.), so is the case with computers. Computers understand instructions that are written in a specific syntactical form called a programming language.\n",
        "\n",
        "**Perform various task ??**\n",
        "\n",
        " The tasks could be simple ones like we discussed above (adding 2 numbers, rounding off a number) or complex ones which may involve a sequence of multiple instructions. For example:\n",
        "\n",
        "Calculating simple interest, given principal, rate and time.\n",
        "Calculating the average return on a stock over the last 5 years.\n",
        "\n",
        "\n",
        "*Let's think about atm"
      ]
    },
    {
      "cell_type": "markdown",
      "metadata": {
        "id": "N9Ie5nplh5wI"
      },
      "source": [
        "### **Basic Data Types (Temel Veri Tipleri)** \n",
        "\n",
        "Integers (tam sayılar): -3,-2,-1,1,2,3,4   \n",
        "**-> 0 ?**\n",
        "\n",
        "Floats (Kesirli Sayırlar): -1.2, 0.2, 1.2, 4.2\n",
        "\n",
        "**-> 1.0 ?**\n",
        "\n",
        "Boolean: True, False\n",
        "\n",
        "2>3 **False**\n",
        "\n",
        "1>0.99 **True**\n",
        "\n",
        "\n",
        "\n",
        "`> **type() method returns class type of the argument(object) passed as parameter**\n",
        "\n",
        "\n",
        "\n",
        "\n",
        "\n"
      ]
    },
    {
      "cell_type": "markdown",
      "metadata": {
        "id": "pv3uIQ6MfSQp"
      },
      "source": [
        "## **Using Python as a Calculator**\n",
        "\n",
        "Let’s try some simple Python commands.\n"
      ]
    },
    {
      "cell_type": "code",
      "metadata": {
        "colab": {
          "base_uri": "https://localhost:8080/"
        },
        "id": "iEQB_t_sWkuq",
        "outputId": "f0ab0c4a-2ffa-4928-aa25-71955508f1aa"
      },
      "source": [
        "2+2"
      ],
      "execution_count": null,
      "outputs": [
        {
          "output_type": "execute_result",
          "data": {
            "text/plain": [
              "4"
            ]
          },
          "metadata": {
            "tags": []
          },
          "execution_count": 1
        }
      ]
    },
    {
      "cell_type": "code",
      "metadata": {
        "colab": {
          "base_uri": "https://localhost:8080/"
        },
        "id": "erINOxFAdnyN",
        "outputId": "04555481-b684-46e7-c63c-668b7d69eb96"
      },
      "source": [
        "1.2 + 0.8"
      ],
      "execution_count": null,
      "outputs": [
        {
          "output_type": "execute_result",
          "data": {
            "text/plain": [
              "2.0"
            ]
          },
          "metadata": {
            "tags": []
          },
          "execution_count": 4
        }
      ]
    },
    {
      "cell_type": "code",
      "metadata": {
        "colab": {
          "base_uri": "https://localhost:8080/"
        },
        "id": "iUX8RioCfBGk",
        "outputId": "a3c7276e-28b7-4b03-b2ef-56f872ccd099"
      },
      "source": [
        "44 - 12 / 6"
      ],
      "execution_count": null,
      "outputs": [
        {
          "output_type": "execute_result",
          "data": {
            "text/plain": [
              "42.0"
            ]
          },
          "metadata": {
            "tags": []
          },
          "execution_count": 2
        }
      ]
    },
    {
      "cell_type": "code",
      "metadata": {
        "colab": {
          "base_uri": "https://localhost:8080/"
        },
        "id": "QuwuaTb2d_-T",
        "outputId": "1ee7e0bd-31e2-4c11-f056-0e3a6de1bba5"
      },
      "source": [
        "2/2 #float"
      ],
      "execution_count": null,
      "outputs": [
        {
          "output_type": "execute_result",
          "data": {
            "text/plain": [
              "1.0"
            ]
          },
          "metadata": {
            "tags": []
          },
          "execution_count": 7
        }
      ]
    },
    {
      "cell_type": "code",
      "metadata": {
        "colab": {
          "base_uri": "https://localhost:8080/"
        },
        "id": "WytPHqplgZbJ",
        "outputId": "8a71796f-72b4-485c-857c-e36766000c2e"
      },
      "source": [
        "40 - 5*6 / 2"
      ],
      "execution_count": null,
      "outputs": [
        {
          "output_type": "execute_result",
          "data": {
            "text/plain": [
              "25.0"
            ]
          },
          "metadata": {
            "tags": []
          },
          "execution_count": 5
        }
      ]
    },
    {
      "cell_type": "code",
      "metadata": {
        "colab": {
          "base_uri": "https://localhost:8080/"
        },
        "id": "JZmhIScAgoEf",
        "outputId": "f2ebe5bd-abd9-4509-df59-ae826c4b7e96"
      },
      "source": [
        "(40 - 5*6) / 2"
      ],
      "execution_count": null,
      "outputs": [
        {
          "output_type": "execute_result",
          "data": {
            "text/plain": [
              "5.0"
            ]
          },
          "metadata": {
            "tags": []
          },
          "execution_count": 8
        }
      ]
    },
    {
      "cell_type": "code",
      "metadata": {
        "colab": {
          "base_uri": "https://localhost:8080/"
        },
        "id": "8kVGaHDmv0ZV",
        "outputId": "aca5929f-629f-4fec-ee57-035b77cb8f08"
      },
      "source": [
        "1.5 * 2 - 0.5"
      ],
      "execution_count": null,
      "outputs": [
        {
          "output_type": "execute_result",
          "data": {
            "text/plain": [
              "2.5"
            ]
          },
          "metadata": {
            "tags": []
          },
          "execution_count": 9
        }
      ]
    },
    {
      "cell_type": "code",
      "metadata": {
        "colab": {
          "base_uri": "https://localhost:8080/"
        },
        "id": "cn7zZ5aCg98d",
        "outputId": "dda7501f-7ab2-4649-8c89-7b9de90d774b"
      },
      "source": [
        "17 / 3"
      ],
      "execution_count": null,
      "outputs": [
        {
          "output_type": "execute_result",
          "data": {
            "text/plain": [
              "5.666666666666667"
            ]
          },
          "metadata": {
            "tags": []
          },
          "execution_count": 10
        }
      ]
    },
    {
      "cell_type": "code",
      "metadata": {
        "colab": {
          "base_uri": "https://localhost:8080/"
        },
        "id": "tlpXHQUhhLmT",
        "outputId": "c32c84dc-d9c4-40e2-8fb0-3b6262e4ea5c"
      },
      "source": [
        "17 // 3"
      ],
      "execution_count": null,
      "outputs": [
        {
          "output_type": "execute_result",
          "data": {
            "text/plain": [
              "5"
            ]
          },
          "metadata": {
            "tags": []
          },
          "execution_count": 18
        }
      ]
    },
    {
      "cell_type": "code",
      "metadata": {
        "colab": {
          "base_uri": "https://localhost:8080/"
        },
        "id": "WB0Hz4NFizCP",
        "outputId": "8da4b56e-658a-48b6-bd2a-943362be6e5c"
      },
      "source": [
        "17 % 3"
      ],
      "execution_count": null,
      "outputs": [
        {
          "output_type": "execute_result",
          "data": {
            "text/plain": [
              "2"
            ]
          },
          "metadata": {
            "tags": []
          },
          "execution_count": 19
        }
      ]
    },
    {
      "cell_type": "code",
      "metadata": {
        "colab": {
          "base_uri": "https://localhost:8080/"
        },
        "id": "ZCQQzzZFeekc",
        "outputId": "fa0e3b41-ff7d-4f18-d7bf-bdb8b6d8b953"
      },
      "source": [
        "20 % 3"
      ],
      "execution_count": null,
      "outputs": [
        {
          "output_type": "execute_result",
          "data": {
            "text/plain": [
              "2"
            ]
          },
          "metadata": {
            "tags": []
          },
          "execution_count": 11
        }
      ]
    },
    {
      "cell_type": "code",
      "metadata": {
        "colab": {
          "base_uri": "https://localhost:8080/"
        },
        "id": "r_X51acskCjP",
        "outputId": "a7c1829b-8d84-4fb4-a1a9-2168c53200d5"
      },
      "source": [
        "2 ** 5"
      ],
      "execution_count": null,
      "outputs": [
        {
          "output_type": "execute_result",
          "data": {
            "text/plain": [
              "32"
            ]
          },
          "metadata": {
            "tags": []
          },
          "execution_count": 12
        }
      ]
    },
    {
      "cell_type": "code",
      "metadata": {
        "colab": {
          "base_uri": "https://localhost:8080/"
        },
        "id": "fmWqrds_maeF",
        "outputId": "ed2b7620-9fe7-41c8-97ca-9311980866be"
      },
      "source": [
        "2>3"
      ],
      "execution_count": null,
      "outputs": [
        {
          "output_type": "execute_result",
          "data": {
            "text/plain": [
              "False"
            ]
          },
          "metadata": {
            "tags": []
          },
          "execution_count": 30
        }
      ]
    },
    {
      "cell_type": "code",
      "metadata": {
        "colab": {
          "base_uri": "https://localhost:8080/"
        },
        "id": "QtG6lB22mcZk",
        "outputId": "a12cfab1-42b7-4ed2-d500-717994ec6042"
      },
      "source": [
        "1>0.99"
      ],
      "execution_count": null,
      "outputs": [
        {
          "output_type": "execute_result",
          "data": {
            "text/plain": [
              "True"
            ]
          },
          "metadata": {
            "tags": []
          },
          "execution_count": 33
        }
      ]
    },
    {
      "cell_type": "code",
      "metadata": {
        "colab": {
          "base_uri": "https://localhost:8080/"
        },
        "id": "xHXWX34ckMLC",
        "outputId": "60134155-b0b6-4ccd-f553-ec1339e43dd3"
      },
      "source": [
        "#type casting (tip dönüştürmesi)\n",
        "\n",
        "int(2.6)"
      ],
      "execution_count": null,
      "outputs": [
        {
          "output_type": "execute_result",
          "data": {
            "text/plain": [
              "2"
            ]
          },
          "metadata": {
            "tags": []
          },
          "execution_count": 14
        }
      ]
    },
    {
      "cell_type": "code",
      "metadata": {
        "colab": {
          "base_uri": "https://localhost:8080/"
        },
        "id": "zWe-G6Hzlzfh",
        "outputId": "57a1ae11-a4c2-41a8-da40-1ad2172f22e0"
      },
      "source": [
        "float(2)"
      ],
      "execution_count": null,
      "outputs": [
        {
          "output_type": "execute_result",
          "data": {
            "text/plain": [
              "2.0"
            ]
          },
          "metadata": {
            "tags": []
          },
          "execution_count": 22
        }
      ]
    },
    {
      "cell_type": "markdown",
      "metadata": {
        "id": "juDxcEUGtkB8"
      },
      "source": [
        "![Desi-Hesabi.gif](data:image/gif;base64,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)"
      ]
    },
    {
      "cell_type": "code",
      "metadata": {
        "colab": {
          "base_uri": "https://localhost:8080/"
        },
        "id": "pZA5Kel4uXkJ",
        "outputId": "c51208ef-301f-43d0-8210-d5f53b7cf78d"
      },
      "source": [
        "50 * 90 * 30 / 3000"
      ],
      "execution_count": null,
      "outputs": [
        {
          "output_type": "execute_result",
          "data": {
            "text/plain": [
              "45.0"
            ]
          },
          "metadata": {
            "tags": []
          },
          "execution_count": 15
        }
      ]
    },
    {
      "cell_type": "markdown",
      "metadata": {
        "id": "3ZpRA0ZBm5Z9"
      },
      "source": [
        "### **Variable Assignment**\n",
        "\n",
        "Variables are nothing but reserved memory locations to store values. This means that when you create a variable you reserve some space in memory.\n",
        "\n",
        "The equal sign (=) is used to assign a value to a variable."
      ]
    },
    {
      "cell_type": "code",
      "metadata": {
        "colab": {
          "base_uri": "https://localhost:8080/"
        },
        "id": "77PEfz1NmDXz",
        "outputId": "158216d1-0347-49bc-9dca-057ce4feed7b"
      },
      "source": [
        "en = 50\n",
        "boy = 90\n",
        "yükseklik = 30\n",
        "\n",
        "desi = en*boy*yükseklik / 3000\n",
        "\n",
        "desi"
      ],
      "execution_count": null,
      "outputs": [
        {
          "output_type": "execute_result",
          "data": {
            "text/plain": [
              "45.0"
            ]
          },
          "metadata": {
            "tags": []
          },
          "execution_count": 16
        }
      ]
    },
    {
      "cell_type": "code",
      "metadata": {
        "colab": {
          "base_uri": "https://localhost:8080/"
        },
        "id": "fYgGklXXmEC6",
        "outputId": "ce29f177-7bcf-4846-cd12-7c565e2167ac"
      },
      "source": [
        "en = 20\n",
        "en"
      ],
      "execution_count": null,
      "outputs": [
        {
          "output_type": "execute_result",
          "data": {
            "text/plain": [
              "20"
            ]
          },
          "metadata": {
            "tags": []
          },
          "execution_count": 18
        }
      ]
    },
    {
      "cell_type": "code",
      "metadata": {
        "colab": {
          "base_uri": "https://localhost:8080/",
          "height": 162
        },
        "id": "yHMIKqtovDda",
        "outputId": "f1da0364-bfc8-4eff-c7cd-cef9ec396b77"
      },
      "source": [
        "enn"
      ],
      "execution_count": null,
      "outputs": [
        {
          "output_type": "error",
          "ename": "NameError",
          "evalue": "ignored",
          "traceback": [
            "\u001b[0;31m---------------------------------------------------------------------------\u001b[0m",
            "\u001b[0;31mNameError\u001b[0m                                 Traceback (most recent call last)",
            "\u001b[0;32m<ipython-input-20-3a5292f5c843>\u001b[0m in \u001b[0;36m<module>\u001b[0;34m()\u001b[0m\n\u001b[0;32m----> 1\u001b[0;31m \u001b[0menn\u001b[0m\u001b[0;34m\u001b[0m\u001b[0;34m\u001b[0m\u001b[0m\n\u001b[0m",
            "\u001b[0;31mNameError\u001b[0m: name 'enn' is not defined"
          ]
        }
      ]
    },
    {
      "cell_type": "code",
      "metadata": {
        "colab": {
          "base_uri": "https://localhost:8080/"
        },
        "id": "PgEF7d5UvaQm",
        "outputId": "2690cef9-6b60-4757-97e6-9a347b065d72"
      },
      "source": [
        "boy_en = 90 * 50\n",
        "yükseklik_birim = 30 / 3000\n",
        "\n",
        "boy_en * yükseklik_birim"
      ],
      "execution_count": null,
      "outputs": [
        {
          "output_type": "execute_result",
          "data": {
            "text/plain": [
              "45.0"
            ]
          },
          "metadata": {
            "tags": []
          },
          "execution_count": 21
        }
      ]
    },
    {
      "cell_type": "markdown",
      "metadata": {
        "id": "RaefubjJw3iB"
      },
      "source": [
        "### **Strings**\n",
        "\n",
        "A string is a sequence of characters.\n",
        "\n",
        "A character is simply a symbol. For example, the Turkish language has 29 characters.\n",
        "\n",
        "Computers do not deal with characters, they deal with numbers (binary). Even though you may see characters on your screen, internally it is stored and manipulated as a combination of 0s and 1s.\n",
        "\n",
        "This conversion of character to a number is called encoding, and the reverse process is decoding. ASCII and Unicode are some of the popular encodings used.\n",
        "\n",
        "In Python, a string is a sequence of Unicode characters. Unicode was introduced to include every character in all languages and bring uniformity in encoding. You can learn about Unicode from Python Unicode.\n",
        "\n",
        "source: https://www.programiz.com/python-programming/string\n",
        "\n",
        " **They can be enclosed in single quotes ('...') or double quotes (\"...\") with the same result 2. \\ can be used to escape quotes:**"
      ]
    },
    {
      "cell_type": "code",
      "metadata": {
        "id": "Fw1YxTrXxj84",
        "colab": {
          "base_uri": "https://localhost:8080/",
          "height": 35
        },
        "outputId": "cad1b35e-7659-4045-95c4-faf95e32f4dc"
      },
      "source": [
        "'istatistik ve veri bilimi kulübü'"
      ],
      "execution_count": null,
      "outputs": [
        {
          "output_type": "execute_result",
          "data": {
            "application/vnd.google.colaboratory.intrinsic+json": {
              "type": "string"
            },
            "text/plain": [
              "'istatistik ve veri bilimi kulübü'"
            ]
          },
          "metadata": {
            "tags": []
          },
          "execution_count": 22
        }
      ]
    },
    {
      "cell_type": "code",
      "metadata": {
        "colab": {
          "base_uri": "https://localhost:8080/",
          "height": 35
        },
        "id": "-W5GhapGgyHD",
        "outputId": "3b09670f-5be9-438b-c04b-52d6caf03dd0"
      },
      "source": [
        "'2'"
      ],
      "execution_count": null,
      "outputs": [
        {
          "output_type": "execute_result",
          "data": {
            "application/vnd.google.colaboratory.intrinsic+json": {
              "type": "string"
            },
            "text/plain": [
              "'2'"
            ]
          },
          "metadata": {
            "tags": []
          },
          "execution_count": 25
        }
      ]
    },
    {
      "cell_type": "code",
      "metadata": {
        "colab": {
          "base_uri": "https://localhost:8080/",
          "height": 35
        },
        "id": "Ng-gFd1lRFyh",
        "outputId": "d3ee1f14-27d7-4078-fd67-72a6bc9f615c"
      },
      "source": [
        "\"istatistik ve veri bilimi kulübü\""
      ],
      "execution_count": null,
      "outputs": [
        {
          "output_type": "execute_result",
          "data": {
            "application/vnd.google.colaboratory.intrinsic+json": {
              "type": "string"
            },
            "text/plain": [
              "'istatistik ve veri bilimi kulübü'"
            ]
          },
          "metadata": {
            "tags": []
          },
          "execution_count": 2
        }
      ]
    },
    {
      "cell_type": "code",
      "metadata": {
        "colab": {
          "base_uri": "https://localhost:8080/",
          "height": 35
        },
        "id": "RE47ynlkRdFP",
        "outputId": "ad4ae00d-0465-4f58-f47a-3234dcf804c7"
      },
      "source": [
        "'isattis\\'tik'"
      ],
      "execution_count": null,
      "outputs": [
        {
          "output_type": "execute_result",
          "data": {
            "application/vnd.google.colaboratory.intrinsic+json": {
              "type": "string"
            },
            "text/plain": [
              "\"istatis'tik\""
            ]
          },
          "metadata": {
            "tags": []
          },
          "execution_count": 6
        }
      ]
    },
    {
      "cell_type": "code",
      "metadata": {
        "colab": {
          "base_uri": "https://localhost:8080/",
          "height": 35
        },
        "id": "5NiROuIPRlLQ",
        "outputId": "62e97669-532d-4fea-a98d-bbf2271e62f3"
      },
      "source": [
        "\"'istatistik' ve veri bilimi\""
      ],
      "execution_count": null,
      "outputs": [
        {
          "output_type": "execute_result",
          "data": {
            "application/vnd.google.colaboratory.intrinsic+json": {
              "type": "string"
            },
            "text/plain": [
              "\"'istatistik' ve veri bilimi\""
            ]
          },
          "metadata": {
            "tags": []
          },
          "execution_count": 13
        }
      ]
    },
    {
      "cell_type": "markdown",
      "metadata": {
        "id": "5JF7YIGoS4FM"
      },
      "source": [
        "The print() function produces a more readable output, by omitting the enclosing quotes and by printing escaped and special characters:"
      ]
    },
    {
      "cell_type": "code",
      "metadata": {
        "colab": {
          "base_uri": "https://localhost:8080/"
        },
        "id": "4bryBl-1Ro4A",
        "outputId": "c05d0938-cb61-4a69-84bc-afd43ffe9183"
      },
      "source": [
        "print(\"'istatistik' ve veri bilimi \")"
      ],
      "execution_count": null,
      "outputs": [
        {
          "output_type": "stream",
          "text": [
            "'istatistik' ve veri bilimi \n"
          ],
          "name": "stdout"
        }
      ]
    },
    {
      "cell_type": "markdown",
      "metadata": {
        "id": "M0gHGG3zTVAU"
      },
      "source": [
        "Strings can be concatenated (glued together) with the + operator, and repeated with *:\n",
        "\n"
      ]
    },
    {
      "cell_type": "code",
      "metadata": {
        "colab": {
          "base_uri": "https://localhost:8080/",
          "height": 35
        },
        "id": "Nr3oysbxShn-",
        "outputId": "a4c87b1d-858a-42dd-c382-2b0b351adc58"
      },
      "source": [
        "'istatistik ve ' + 'veri bilimi'"
      ],
      "execution_count": null,
      "outputs": [
        {
          "output_type": "execute_result",
          "data": {
            "application/vnd.google.colaboratory.intrinsic+json": {
              "type": "string"
            },
            "text/plain": [
              "'istatistik ve veri bilimi'"
            ]
          },
          "metadata": {
            "tags": []
          },
          "execution_count": 18
        }
      ]
    },
    {
      "cell_type": "code",
      "metadata": {
        "colab": {
          "base_uri": "https://localhost:8080/",
          "height": 34
        },
        "id": "Xpc-YjCSTonF",
        "outputId": "af6c33bd-309c-4382-cf29-a7b0e088a585"
      },
      "source": [
        "'istatistik ' + 3 * \"ve \" + \"veri bilimi\""
      ],
      "execution_count": null,
      "outputs": [
        {
          "output_type": "execute_result",
          "data": {
            "application/vnd.google.colaboratory.intrinsic+json": {
              "type": "string"
            },
            "text/plain": [
              "'istatistik ve ve ve veri bilimi'"
            ]
          },
          "metadata": {
            "tags": []
          },
          "execution_count": 19
        }
      ]
    },
    {
      "cell_type": "code",
      "metadata": {
        "colab": {
          "base_uri": "https://localhost:8080/",
          "height": 34
        },
        "id": "a-u4uzOiUCAe",
        "outputId": "7bc00b32-4a10-41fb-cc3b-4b5a86f64bc4"
      },
      "source": [
        "'istatistik ' 've ' 'veri bilimi'"
      ],
      "execution_count": null,
      "outputs": [
        {
          "output_type": "execute_result",
          "data": {
            "application/vnd.google.colaboratory.intrinsic+json": {
              "type": "string"
            },
            "text/plain": [
              "'istatistik ve veri bilimi'"
            ]
          },
          "metadata": {
            "tags": []
          },
          "execution_count": 20
        }
      ]
    },
    {
      "cell_type": "code",
      "metadata": {
        "colab": {
          "base_uri": "https://localhost:8080/",
          "height": 35
        },
        "id": "PjNZKc-wURVO",
        "outputId": "d3f03194-ad1c-4d9d-ffdb-e756f7742455"
      },
      "source": [
        "name = 'istatistik'\n",
        "name + ' ve veri bilimi' #use '+'"
      ],
      "execution_count": null,
      "outputs": [
        {
          "output_type": "execute_result",
          "data": {
            "application/vnd.google.colaboratory.intrinsic+json": {
              "type": "string"
            },
            "text/plain": [
              "'istatistik ve veri bilimi'"
            ]
          },
          "metadata": {
            "tags": []
          },
          "execution_count": 29
        }
      ]
    },
    {
      "cell_type": "markdown",
      "metadata": {
        "id": "ck9Gn97HVS8h"
      },
      "source": [
        "Strings can be indexed (subscripted), with the first character having index 0. There is no separate character type; a character is simply a string of size one:"
      ]
    },
    {
      "cell_type": "code",
      "metadata": {
        "colab": {
          "base_uri": "https://localhost:8080/",
          "height": 35
        },
        "id": "9teMFm4UUeOV",
        "outputId": "3915227c-df82-45ab-9d8b-968624441793"
      },
      "source": [
        "word = \"veri bilimi\"\n",
        "word[10]"
      ],
      "execution_count": null,
      "outputs": [
        {
          "output_type": "execute_result",
          "data": {
            "application/vnd.google.colaboratory.intrinsic+json": {
              "type": "string"
            },
            "text/plain": [
              "'i'"
            ]
          },
          "metadata": {
            "tags": []
          },
          "execution_count": 35
        }
      ]
    },
    {
      "cell_type": "code",
      "metadata": {
        "colab": {
          "base_uri": "https://localhost:8080/"
        },
        "id": "f-GuNF5NVuco",
        "outputId": "dd1ee048-17e4-4096-fd9f-8a8f1374be63"
      },
      "source": [
        "print(word[1])\n",
        "print(word[4])\n",
        "print(word[-2])"
      ],
      "execution_count": null,
      "outputs": [
        {
          "output_type": "stream",
          "text": [
            "e\n",
            " \n",
            "m\n"
          ],
          "name": "stdout"
        }
      ]
    },
    {
      "cell_type": "code",
      "metadata": {
        "colab": {
          "base_uri": "https://localhost:8080/"
        },
        "id": "Kh1jS8ncWLxQ",
        "outputId": "f05451bf-b2cf-460b-9027-593c364248db"
      },
      "source": [
        "print(word[0:2])\n",
        "print(word[:3])\n",
        "print(word[3:])\n",
        "print(word[:2] + word[2:4])\n",
        "print(word[-2:])\n",
        "print(word[0:5])"
      ],
      "execution_count": null,
      "outputs": [
        {
          "output_type": "stream",
          "text": [
            "ve\n",
            "ver\n",
            "i bilimi\n",
            "veri\n",
            "mi\n",
            "veri \n"
          ],
          "name": "stdout"
        }
      ]
    },
    {
      "cell_type": "code",
      "metadata": {
        "colab": {
          "base_uri": "https://localhost:8080/",
          "height": 185
        },
        "id": "Bay0i6hWqKXC",
        "outputId": "9f050268-33a7-4fbd-b02b-f4799fe1758c"
      },
      "source": [
        "word[0] = 'k'\n",
        "word #strings are immutable"
      ],
      "execution_count": null,
      "outputs": [
        {
          "output_type": "error",
          "ename": "TypeError",
          "evalue": "ignored",
          "traceback": [
            "\u001b[0;31m---------------------------------------------------------------------------\u001b[0m",
            "\u001b[0;31mTypeError\u001b[0m                                 Traceback (most recent call last)",
            "\u001b[0;32m<ipython-input-45-3e9bfb1bf8a2>\u001b[0m in \u001b[0;36m<module>\u001b[0;34m()\u001b[0m\n\u001b[0;32m----> 1\u001b[0;31m \u001b[0mword\u001b[0m\u001b[0;34m[\u001b[0m\u001b[0;36m0\u001b[0m\u001b[0;34m]\u001b[0m \u001b[0;34m=\u001b[0m \u001b[0;34m'k'\u001b[0m\u001b[0;34m\u001b[0m\u001b[0;34m\u001b[0m\u001b[0m\n\u001b[0m\u001b[1;32m      2\u001b[0m \u001b[0mword\u001b[0m \u001b[0;31m#strings are immutable\u001b[0m\u001b[0;34m\u001b[0m\u001b[0;34m\u001b[0m\u001b[0m\n",
            "\u001b[0;31mTypeError\u001b[0m: 'str' object does not support item assignment"
          ]
        }
      ]
    },
    {
      "cell_type": "code",
      "metadata": {
        "colab": {
          "base_uri": "https://localhost:8080/",
          "height": 35
        },
        "id": "hEOF8sJ5kWra",
        "outputId": "f078e6f0-9750-4660-dc42-5e4ad705fdad"
      },
      "source": [
        "word = \"hasret\"\n",
        "word"
      ],
      "execution_count": null,
      "outputs": [
        {
          "output_type": "execute_result",
          "data": {
            "application/vnd.google.colaboratory.intrinsic+json": {
              "type": "string"
            },
            "text/plain": [
              "'hasret'"
            ]
          },
          "metadata": {
            "tags": []
          },
          "execution_count": 42
        }
      ]
    },
    {
      "cell_type": "markdown",
      "metadata": {
        "id": "7p3s64iGXmh4"
      },
      "source": [
        "len() returns the length of a string:"
      ]
    },
    {
      "cell_type": "code",
      "metadata": {
        "colab": {
          "base_uri": "https://localhost:8080/"
        },
        "id": "M7PzsroeWffO",
        "outputId": "deaf704f-a477-424b-876f-30403424ae70"
      },
      "source": [
        "len(word)"
      ],
      "execution_count": null,
      "outputs": [
        {
          "output_type": "execute_result",
          "data": {
            "text/plain": [
              "6"
            ]
          },
          "metadata": {
            "tags": []
          },
          "execution_count": 43
        }
      ]
    },
    {
      "cell_type": "code",
      "metadata": {
        "id": "Az7UDCQtkuNu"
      },
      "source": [
        "a = \"istatistik\""
      ],
      "execution_count": null,
      "outputs": []
    },
    {
      "cell_type": "markdown",
      "metadata": {
        "id": "ahaLyIGonj7-"
      },
      "source": [
        "## **Lists**\n",
        "\n",
        "\n",
        "Lists are used to store multiple items in a single variable.\n",
        "\n",
        "Lists are one of 4 built-in data types in Python used to store collections of data, the other 3 are **Tuple, Set, and Dictionary**, all with different qualities and usage.\n",
        "\n",
        "Lists are created using square brackets:\n",
        "\n",
        "source: https://www.w3schools.com/python/python_lists.asp"
      ]
    },
    {
      "cell_type": "code",
      "metadata": {
        "colab": {
          "base_uri": "https://localhost:8080/"
        },
        "id": "GMrOhEDMXu3c",
        "outputId": "e58ee6bd-2ead-40ea-d442-a1a79c4f93ef"
      },
      "source": [
        "rational = [2,3,5,7,11]\n",
        "rational"
      ],
      "execution_count": null,
      "outputs": [
        {
          "output_type": "execute_result",
          "data": {
            "text/plain": [
              "[2, 3, 5, 7, 11]"
            ]
          },
          "metadata": {
            "tags": []
          },
          "execution_count": 48
        }
      ]
    },
    {
      "cell_type": "code",
      "metadata": {
        "colab": {
          "base_uri": "https://localhost:8080/"
        },
        "id": "1xT7ggVvovtR",
        "outputId": "bb6e0736-09f8-4547-ab2f-90a3bb1aeb26"
      },
      "source": [
        "print(rational[0])\n",
        "print(rational[-1])\n",
        "print(rational[2:4])"
      ],
      "execution_count": null,
      "outputs": [
        {
          "output_type": "stream",
          "text": [
            "2\n",
            "11\n",
            "[5, 7]\n"
          ],
          "name": "stdout"
        }
      ]
    },
    {
      "cell_type": "code",
      "metadata": {
        "colab": {
          "base_uri": "https://localhost:8080/"
        },
        "id": "RUzKEbAjo72H",
        "outputId": "93b8fac2-fdef-4c35-c046-5df2d2d8eb0e"
      },
      "source": [
        "rational + [1,2,3,4,5] #Lists also support operations like concatenation"
      ],
      "execution_count": null,
      "outputs": [
        {
          "output_type": "execute_result",
          "data": {
            "text/plain": [
              "[2, 3, 5, 7, 11, 1, 2, 3, 4, 5]"
            ]
          },
          "metadata": {
            "tags": []
          },
          "execution_count": 50
        }
      ]
    },
    {
      "cell_type": "markdown",
      "metadata": {
        "id": "L0pu6P3ypwan"
      },
      "source": [
        "Unlike strings, which are immutable, lists are a mutable type"
      ]
    },
    {
      "cell_type": "code",
      "metadata": {
        "colab": {
          "base_uri": "https://localhost:8080/"
        },
        "id": "mM9uH85WpXzx",
        "outputId": "b45ef509-8255-4693-d3d2-ed20c7225d66"
      },
      "source": [
        "rational[1] = 0\n",
        "rational"
      ],
      "execution_count": null,
      "outputs": [
        {
          "output_type": "execute_result",
          "data": {
            "text/plain": [
              "[2, 0, 5, 7, 11]"
            ]
          },
          "metadata": {
            "tags": []
          },
          "execution_count": 51
        }
      ]
    },
    {
      "cell_type": "markdown",
      "metadata": {
        "id": "tk9tk9Maqoqq"
      },
      "source": [
        "You can also add new items at the end of the list, by using the append() method (we will see more about methods later):"
      ]
    },
    {
      "cell_type": "code",
      "metadata": {
        "colab": {
          "base_uri": "https://localhost:8080/"
        },
        "id": "SDAnZ9mkp5gt",
        "outputId": "a274c66c-375d-4b34-ec60-f6b8522cf631"
      },
      "source": [
        "rational.append(13)\n",
        "rational"
      ],
      "execution_count": null,
      "outputs": [
        {
          "output_type": "execute_result",
          "data": {
            "text/plain": [
              "[2, 0, 5, 7, 11, 13]"
            ]
          },
          "metadata": {
            "tags": []
          },
          "execution_count": 52
        }
      ]
    },
    {
      "cell_type": "code",
      "metadata": {
        "colab": {
          "base_uri": "https://localhost:8080/",
          "height": 202
        },
        "id": "URtfx2zRq4f3",
        "outputId": "12222d7d-f9a1-4c82-c02f-a0ed06b812bd"
      },
      "source": [
        "#OR\n",
        "rational[6] = 17 # ???\n",
        "rational"
      ],
      "execution_count": null,
      "outputs": [
        {
          "output_type": "error",
          "ename": "IndexError",
          "evalue": "ignored",
          "traceback": [
            "\u001b[0;31m---------------------------------------------------------------------------\u001b[0m",
            "\u001b[0;31mIndexError\u001b[0m                                Traceback (most recent call last)",
            "\u001b[0;32m<ipython-input-53-aca9fbac7806>\u001b[0m in \u001b[0;36m<module>\u001b[0;34m()\u001b[0m\n\u001b[1;32m      1\u001b[0m \u001b[0;31m#OR\u001b[0m\u001b[0;34m\u001b[0m\u001b[0;34m\u001b[0m\u001b[0;34m\u001b[0m\u001b[0m\n\u001b[0;32m----> 2\u001b[0;31m \u001b[0mrational\u001b[0m\u001b[0;34m[\u001b[0m\u001b[0;36m6\u001b[0m\u001b[0;34m]\u001b[0m \u001b[0;34m=\u001b[0m \u001b[0;36m17\u001b[0m \u001b[0;31m# ???\u001b[0m\u001b[0;34m\u001b[0m\u001b[0;34m\u001b[0m\u001b[0m\n\u001b[0m\u001b[1;32m      3\u001b[0m \u001b[0mrational\u001b[0m\u001b[0;34m\u001b[0m\u001b[0;34m\u001b[0m\u001b[0m\n",
            "\u001b[0;31mIndexError\u001b[0m: list assignment index out of range"
          ]
        }
      ]
    },
    {
      "cell_type": "code",
      "metadata": {
        "colab": {
          "base_uri": "https://localhost:8080/"
        },
        "id": "f_sUdadgmvg6",
        "outputId": "b4be292d-904b-497d-c3b6-1c400649559f"
      },
      "source": [
        "rational"
      ],
      "execution_count": null,
      "outputs": [
        {
          "output_type": "execute_result",
          "data": {
            "text/plain": [
              "[2, 0, 5, 7, 11, 13]"
            ]
          },
          "metadata": {
            "tags": []
          },
          "execution_count": 54
        }
      ]
    },
    {
      "cell_type": "code",
      "metadata": {
        "colab": {
          "base_uri": "https://localhost:8080/"
        },
        "id": "WnFES29bq2tv",
        "outputId": "5eb66d85-3cd3-4550-a8dd-ff31a5547d99"
      },
      "source": [
        "letters = ['i', 's', 't', 'a', 't', 'i', 's','t', 'i', 'k']\n",
        "letters"
      ],
      "execution_count": null,
      "outputs": [
        {
          "output_type": "execute_result",
          "data": {
            "text/plain": [
              "['i', 's', 't', 'a', 't', 'i', 's', 't', 'i', 'k']"
            ]
          },
          "metadata": {
            "tags": []
          },
          "execution_count": 55
        }
      ]
    },
    {
      "cell_type": "code",
      "metadata": {
        "colab": {
          "base_uri": "https://localhost:8080/"
        },
        "id": "pGuvqPyCr2mf",
        "outputId": "ca1b2f8c-1af5-45fc-9af2-0fc042b710f7"
      },
      "source": [
        "letters[:3]"
      ],
      "execution_count": null,
      "outputs": [
        {
          "output_type": "execute_result",
          "data": {
            "text/plain": [
              "['i', 's', 't']"
            ]
          },
          "metadata": {
            "tags": []
          },
          "execution_count": 56
        }
      ]
    },
    {
      "cell_type": "code",
      "metadata": {
        "colab": {
          "base_uri": "https://localhost:8080/"
        },
        "id": "XcSmtr46r9Tc",
        "outputId": "a9dafbda-deaf-4a81-8f75-7e22fb8be838"
      },
      "source": [
        "letters[0] = 'a'\n",
        "letters"
      ],
      "execution_count": null,
      "outputs": [
        {
          "output_type": "execute_result",
          "data": {
            "text/plain": [
              "['a', 's', 't', 'a', 't', 'i', 's', 't', 'i', 'k']"
            ]
          },
          "metadata": {
            "tags": []
          },
          "execution_count": 57
        }
      ]
    },
    {
      "cell_type": "code",
      "metadata": {
        "colab": {
          "base_uri": "https://localhost:8080/"
        },
        "id": "3We7IRWHsBVl",
        "outputId": "37bda19c-b225-4714-af2f-1350dfd3ef51"
      },
      "source": [
        "letters[1:3] = ['h', 'p']\n",
        "letters"
      ],
      "execution_count": null,
      "outputs": [
        {
          "output_type": "execute_result",
          "data": {
            "text/plain": [
              "['a', 'h', 'p', 'a', 't', 'i', 's', 't', 'i', 'k']"
            ]
          },
          "metadata": {
            "tags": []
          },
          "execution_count": 31
        }
      ]
    },
    {
      "cell_type": "code",
      "metadata": {
        "colab": {
          "base_uri": "https://localhost:8080/"
        },
        "id": "0GaLr-BKsQ3c",
        "outputId": "f62b27ad-16e1-402a-9a8f-1abe940bd3ec"
      },
      "source": [
        "letters[1:3] = []\n",
        "letters"
      ],
      "execution_count": null,
      "outputs": [
        {
          "output_type": "execute_result",
          "data": {
            "text/plain": [
              "['a', 'a', 't', 'i', 's', 't', 'i', 'k']"
            ]
          },
          "metadata": {
            "tags": []
          },
          "execution_count": 32
        }
      ]
    },
    {
      "cell_type": "code",
      "metadata": {
        "colab": {
          "base_uri": "https://localhost:8080/"
        },
        "id": "mjRwrrfusWgM",
        "outputId": "24b3f4c1-5793-4e6b-9a87-b0ed2372b3c0"
      },
      "source": [
        "len(letters)"
      ],
      "execution_count": null,
      "outputs": [
        {
          "output_type": "execute_result",
          "data": {
            "text/plain": [
              "8"
            ]
          },
          "metadata": {
            "tags": []
          },
          "execution_count": 33
        }
      ]
    },
    {
      "cell_type": "markdown",
      "metadata": {
        "id": "DrTe0CslttDF"
      },
      "source": [
        "# **More Control Flow Tools**\n",
        "\n",
        "### **if Statements**\n",
        "Python supports the usual logical conditions from mathematics:\n",
        "\n",
        "\n",
        "*   Equals: a == b\n",
        "*   Not Equals: a != b\n",
        "*   Less than: a < b\n",
        "*   Less than or equal to: a <= b\n",
        "*   Greater than: a > b\n",
        "*   Greater than or equal to: a >= b\n",
        "\n",
        "These conditions can be used in several ways, most commonly in \"if statements\" and loops.\n",
        "\n",
        "An \"if statement\" is written by using the if keyword.\n",
        "\n",
        "source:https://www.w3schools.com/python/python_conditions.asp\n",
        "\n"
      ]
    },
    {
      "cell_type": "code",
      "metadata": {
        "colab": {
          "base_uri": "https://localhost:8080/"
        },
        "id": "QKSYm7t_s3Xt",
        "outputId": "128e0c47-4c47-4b62-a021-8596813a868d"
      },
      "source": [
        "#senaryo: öyle bir bankamatik hayal edelim ki sadece 200 lira altın da para veriyor,\n",
        "#200 lira için \"maksimum tutar\" uyarısını veriyor, 200 lira fazlası için para vermiyor.\n",
        "\n",
        "para = 300\n",
        "\n",
        "if para<200:\n",
        "  print(\"parayı verdi\")\n",
        "elif para == 200:\n",
        "  print(\"uyarı: maksimum tutar\")\n",
        "else: \n",
        "  print(\"parayı vermedi\")"
      ],
      "execution_count": null,
      "outputs": [
        {
          "output_type": "stream",
          "text": [
            "parayı vermedi\n"
          ],
          "name": "stdout"
        }
      ]
    },
    {
      "cell_type": "markdown",
      "metadata": {
        "id": "sT7kfpwfxR8n"
      },
      "source": [
        "### **for Statements**\n",
        "\n",
        "Python’s for statement iterates over the items of any sequence (a list or a string), in the order that they appear in the sequence."
      ]
    },
    {
      "cell_type": "code",
      "metadata": {
        "colab": {
          "base_uri": "https://localhost:8080/"
        },
        "id": "R1RDnuOuxQ8O",
        "outputId": "31c39363-e18d-452d-970f-44b45ab92784"
      },
      "source": [
        "animal = [\"cat\", \"dog\", \"bird\", \"fish\",\"butterfly\"]\n",
        "\n",
        "for x in animal:\n",
        "  print(x, len(x))"
      ],
      "execution_count": null,
      "outputs": [
        {
          "output_type": "stream",
          "text": [
            "cat 3\n",
            "dog 3\n",
            "bird 4\n",
            "fish 4\n",
            "butterfly 9\n"
          ],
          "name": "stdout"
        }
      ]
    },
    {
      "cell_type": "markdown",
      "metadata": {
        "id": "kYT8j1D9zHZs"
      },
      "source": [
        "**The range() Function**\n",
        "\n",
        "If you do need to iterate over a sequence of numbers, the built-in function range() comes in handy. It generates arithmetic progressions"
      ]
    },
    {
      "cell_type": "code",
      "metadata": {
        "colab": {
          "base_uri": "https://localhost:8080/"
        },
        "id": "tfyAHwRjya9q",
        "outputId": "d30be82a-7905-42c2-a611-b58325e5a069"
      },
      "source": [
        "for i in range(6): #0,1,2,3,4,5 #hasret\n",
        "  print(i)"
      ],
      "execution_count": null,
      "outputs": [
        {
          "output_type": "stream",
          "text": [
            "0\n",
            "1\n",
            "2\n",
            "3\n",
            "4\n",
            "5\n"
          ],
          "name": "stdout"
        }
      ]
    },
    {
      "cell_type": "code",
      "metadata": {
        "colab": {
          "base_uri": "https://localhost:8080/"
        },
        "id": "kjMm6jRKzXfo",
        "outputId": "b1c683e0-3905-4d61-ee1e-0ab43ec1d9f3"
      },
      "source": [
        "for i in range(2,5): #2,3,4\n",
        "  print(i)"
      ],
      "execution_count": null,
      "outputs": [
        {
          "output_type": "stream",
          "text": [
            "2\n",
            "3\n",
            "4\n"
          ],
          "name": "stdout"
        }
      ]
    },
    {
      "cell_type": "code",
      "metadata": {
        "colab": {
          "base_uri": "https://localhost:8080/"
        },
        "id": "KKqFnFQS0AXO",
        "outputId": "6b7aadda-6649-4233-9d31-257373ac20d8"
      },
      "source": [
        "for i in range(-2,5): #-2,-1,0,1,2,3,4\n",
        "  print(i)"
      ],
      "execution_count": null,
      "outputs": [
        {
          "output_type": "stream",
          "text": [
            "-2\n",
            "-1\n",
            "0\n",
            "1\n",
            "2\n",
            "3\n",
            "4\n"
          ],
          "name": "stdout"
        }
      ]
    },
    {
      "cell_type": "code",
      "metadata": {
        "colab": {
          "base_uri": "https://localhost:8080/"
        },
        "id": "8GB96EXc0DtO",
        "outputId": "7d9c3065-09e6-4e2c-b84d-dca6b3af3173"
      },
      "source": [
        "for i in range(-2,5,2): #-2,0,2,4\n",
        "  print(i)"
      ],
      "execution_count": null,
      "outputs": [
        {
          "output_type": "stream",
          "text": [
            "-2\n",
            "0\n",
            "2\n",
            "4\n"
          ],
          "name": "stdout"
        }
      ]
    },
    {
      "cell_type": "code",
      "metadata": {
        "id": "QTA9vQyL0F8v"
      },
      "source": [
        "for i in range(5,2): \n",
        "  print(i)"
      ],
      "execution_count": null,
      "outputs": []
    },
    {
      "cell_type": "code",
      "metadata": {
        "colab": {
          "base_uri": "https://localhost:8080/"
        },
        "id": "qNBQsiws0KQe",
        "outputId": "9f7f7f19-cbca-4530-bd4c-60a98339067f"
      },
      "source": [
        "for i in range(5,2,-1): #5,4,3\n",
        "  print(i)"
      ],
      "execution_count": null,
      "outputs": [
        {
          "output_type": "stream",
          "text": [
            "5\n",
            "4\n",
            "3\n"
          ],
          "name": "stdout"
        }
      ]
    },
    {
      "cell_type": "code",
      "metadata": {
        "colab": {
          "base_uri": "https://localhost:8080/"
        },
        "id": "Wycc_2zz0MrO",
        "outputId": "e7b0ea09-f7c8-4b1c-cd28-4fc7e56a58ea"
      },
      "source": [
        "words = [\"istatistik\", \"ve\", \"veri\", \"bilimi\", \"kulübü\"]\n",
        "\n",
        "for i in range(len(words)): \n",
        "  print(i, words[i]) #words[0]\n"
      ],
      "execution_count": null,
      "outputs": [
        {
          "output_type": "stream",
          "text": [
            "0 istatistik\n",
            "1 ve\n",
            "2 veri\n",
            "3 bilimi\n",
            "4 kulübü\n"
          ],
          "name": "stdout"
        }
      ]
    },
    {
      "cell_type": "code",
      "metadata": {
        "colab": {
          "base_uri": "https://localhost:8080/"
        },
        "id": "kx5tzbzw5l_K",
        "outputId": "2d12e570-29b7-4eb1-d395-3213fc80e4b9"
      },
      "source": [
        "print(i) #??"
      ],
      "execution_count": null,
      "outputs": [
        {
          "output_type": "stream",
          "text": [
            "4\n"
          ],
          "name": "stdout"
        }
      ]
    },
    {
      "cell_type": "code",
      "metadata": {
        "colab": {
          "base_uri": "https://localhost:8080/"
        },
        "id": "SAYnU19053OA",
        "outputId": "a61f793e-ebaf-4eed-c93d-abad961969f3"
      },
      "source": [
        "for i in range(3): #0,1,2\n",
        "  for k in words:\n",
        "    print(i, k)"
      ],
      "execution_count": null,
      "outputs": [
        {
          "output_type": "stream",
          "text": [
            "0 istatistik\n",
            "0 ve\n",
            "0 veri\n",
            "0 bilimi\n",
            "0 kulübü\n",
            "1 istatistik\n",
            "1 ve\n",
            "1 veri\n",
            "1 bilimi\n",
            "1 kulübü\n",
            "2 istatistik\n",
            "2 ve\n",
            "2 veri\n",
            "2 bilimi\n",
            "2 kulübü\n"
          ],
          "name": "stdout"
        }
      ]
    },
    {
      "cell_type": "code",
      "metadata": {
        "colab": {
          "base_uri": "https://localhost:8080/"
        },
        "id": "sre2sc6M6TGU",
        "outputId": "f3e999f6-a7c7-462d-a510-92388e9bfbb7"
      },
      "source": [
        "for i in range(5): #0,1,2,3,4\n",
        "  for k in words:\n",
        "    if k == 'istatistik':\n",
        "      print(\"bingo\")"
      ],
      "execution_count": null,
      "outputs": [
        {
          "output_type": "stream",
          "text": [
            "bingo\n",
            "bingo\n",
            "bingo\n",
            "bingo\n",
            "bingo\n"
          ],
          "name": "stdout"
        }
      ]
    },
    {
      "cell_type": "markdown",
      "metadata": {
        "id": "QEsuGCXV1m_m"
      },
      "source": [
        "### **while**"
      ]
    },
    {
      "cell_type": "code",
      "metadata": {
        "id": "-0-Qas5W1Hb_",
        "colab": {
          "base_uri": "https://localhost:8080/"
        },
        "outputId": "82af0b01-9771-4199-b20f-548cf87aa68f"
      },
      "source": [
        "total = 5 \n",
        "\n",
        "while total < 10:\n",
        "  print(\"total ondan küçüktür.\")\n",
        "  total = total + 1"
      ],
      "execution_count": null,
      "outputs": [
        {
          "output_type": "stream",
          "text": [
            "total ondan küçüktür.\n",
            "total ondan küçüktür.\n",
            "total ondan küçüktür.\n",
            "total ondan küçüktür.\n",
            "total ondan küçüktür.\n"
          ],
          "name": "stdout"
        }
      ]
    },
    {
      "cell_type": "code",
      "metadata": {
        "colab": {
          "base_uri": "https://localhost:8080/"
        },
        "id": "bBNP0puF8GXb",
        "outputId": "d0409ed3-0356-440e-8648-dc9d8e1ad001"
      },
      "source": [
        "total = 5 \n",
        "\n",
        "while total < 10:\n",
        "  print(\"total ondan küçüktür.\")\n",
        "  total = total + 1\n",
        "  for i in range(2): #0 , 1 \n",
        "    print(i)"
      ],
      "execution_count": null,
      "outputs": [
        {
          "output_type": "stream",
          "text": [
            "total ondan küçüktür.\n",
            "0\n",
            "1\n",
            "total ondan küçüktür.\n",
            "0\n",
            "1\n",
            "total ondan küçüktür.\n",
            "0\n",
            "1\n",
            "total ondan küçüktür.\n",
            "0\n",
            "1\n",
            "total ondan küçüktür.\n",
            "0\n",
            "1\n"
          ],
          "name": "stdout"
        }
      ]
    },
    {
      "cell_type": "code",
      "metadata": {
        "colab": {
          "base_uri": "https://localhost:8080/"
        },
        "id": "Un2-xkM59ElY",
        "outputId": "a4354298-3ae5-43a5-f884-aa35ea5d5bb0"
      },
      "source": [
        "total = 5 \n",
        "\n",
        "while total < 10:\n",
        "  print(\"total ondan küçüktür.\")\n",
        "  total = total + 1\n",
        "  if total < 8:\n",
        "    for i in range(2): # 0, 1\n",
        "      print(i)"
      ],
      "execution_count": null,
      "outputs": [
        {
          "output_type": "stream",
          "text": [
            "total ondan küçüktür.\n",
            "0\n",
            "1\n",
            "total ondan küçüktür.\n",
            "0\n",
            "1\n",
            "total ondan küçüktür.\n",
            "total ondan küçüktür.\n",
            "total ondan küçüktür.\n"
          ],
          "name": "stdout"
        }
      ]
    },
    {
      "cell_type": "markdown",
      "metadata": {
        "id": "QTKGIMyv9NfP"
      },
      "source": [
        "### **break and continue Statements**\n",
        "\n",
        "The break statement breaks out of the innermost enclosing for or while loop.\n",
        "\n",
        "The continue statement continues with the next iteration of the loop"
      ]
    },
    {
      "cell_type": "code",
      "metadata": {
        "colab": {
          "base_uri": "https://localhost:8080/"
        },
        "id": "JOQYs9JG9Ha6",
        "outputId": "b5db7c11-34e6-46ed-e9fa-3cc5eec0705d"
      },
      "source": [
        "for i in range(2): #0,1\n",
        "  for k in words:\n",
        "    if k == \"ve\":\n",
        "      break\n",
        "    else:\n",
        "      print(k)"
      ],
      "execution_count": null,
      "outputs": [
        {
          "output_type": "stream",
          "text": [
            "istatistik\n",
            "istatistik\n"
          ],
          "name": "stdout"
        }
      ]
    },
    {
      "cell_type": "code",
      "metadata": {
        "colab": {
          "base_uri": "https://localhost:8080/"
        },
        "id": "aTjQHW-0-LK7",
        "outputId": "8ffa0938-ce78-403c-9047-a42944a6c6b8"
      },
      "source": [
        "for i in range(2):\n",
        "  for k in words:\n",
        "    if k == \"ve\":\n",
        "      continue\n",
        "    else:\n",
        "      print(k)"
      ],
      "execution_count": null,
      "outputs": [
        {
          "output_type": "stream",
          "text": [
            "istatistik\n",
            "veri\n",
            "bilimi\n",
            "kulübü\n",
            "istatistik\n",
            "veri\n",
            "bilimi\n",
            "kulübü\n"
          ],
          "name": "stdout"
        }
      ]
    },
    {
      "cell_type": "markdown",
      "metadata": {
        "id": "_E0CzrNE_Aip"
      },
      "source": [
        "## **Data Structures**\n",
        "**More on Lists**\n",
        "\n",
        "The list data type has some more methods. Here are all of the methods of list objects:\n",
        "\n",
        "\n",
        "*   list.append(x) #Add an item to the end of the list. \n",
        "*   list.insert(i, x) #Insert an item at a given position.\n",
        "*   list.remove(x) #Remove the first item from the list whose value is equal to x.\n",
        "*   list.pop(i) #Remove the item at the given position in the list, and return it. If no index is specified, a.pop() removes and returns the last item in the list.\n",
        "*   list.clear() #Remove all items from the list.\n",
        "*   list.count(x) #Return the number of times x appears in the list.\n",
        "*   list.sort(reverse=False) #Sort the items of the list in place\n",
        "*   list.reverse() #Reverse the elements of the list in place.\n",
        "*   list.copy() #Return a shallow copy of the list.\n",
        "\n"
      ]
    },
    {
      "cell_type": "code",
      "metadata": {
        "id": "YUWwp1Gw-aaf"
      },
      "source": [
        "num = [1,3,2,3,4,3,5,4,2,4,2]"
      ],
      "execution_count": null,
      "outputs": []
    },
    {
      "cell_type": "code",
      "metadata": {
        "colab": {
          "base_uri": "https://localhost:8080/"
        },
        "id": "uhyxpEqQB6f3",
        "outputId": "e37a1a84-349f-495c-b235-ed8df39159e1"
      },
      "source": [
        "num.append(6)\n",
        "num"
      ],
      "execution_count": null,
      "outputs": [
        {
          "output_type": "execute_result",
          "data": {
            "text/plain": [
              "[1, 3, 2, 3, 4, 3, 5, 4, 2, 4, 2, 6]"
            ]
          },
          "metadata": {
            "tags": []
          },
          "execution_count": 40
        }
      ]
    },
    {
      "cell_type": "code",
      "metadata": {
        "colab": {
          "base_uri": "https://localhost:8080/"
        },
        "id": "BuD260tnB-d1",
        "outputId": "6118c5fa-845c-4999-f378-7b8bcd127b34"
      },
      "source": [
        "num.insert(0,0)\n",
        "num"
      ],
      "execution_count": null,
      "outputs": [
        {
          "output_type": "execute_result",
          "data": {
            "text/plain": [
              "[0, 1, 3, 2, 3, 4, 3, 5, 4, 2, 4, 2, 6]"
            ]
          },
          "metadata": {
            "tags": []
          },
          "execution_count": 41
        }
      ]
    },
    {
      "cell_type": "code",
      "metadata": {
        "colab": {
          "base_uri": "https://localhost:8080/"
        },
        "id": "G0vkoDHnCF6g",
        "outputId": "93c2632c-b083-4b19-d9c9-df0b732445c1"
      },
      "source": [
        "num.remove(2)\n",
        "num #??"
      ],
      "execution_count": null,
      "outputs": [
        {
          "output_type": "execute_result",
          "data": {
            "text/plain": [
              "[0, 1, 3, 3, 4, 3, 5, 4, 2, 4, 2, 6]"
            ]
          },
          "metadata": {
            "tags": []
          },
          "execution_count": 42
        }
      ]
    },
    {
      "cell_type": "code",
      "metadata": {
        "colab": {
          "base_uri": "https://localhost:8080/"
        },
        "id": "xurOk5RmCY5S",
        "outputId": "fa3c6bf5-fa43-4707-c6a5-296a689c8093"
      },
      "source": [
        "num.pop()\n",
        "num"
      ],
      "execution_count": null,
      "outputs": [
        {
          "output_type": "execute_result",
          "data": {
            "text/plain": [
              "[0, 1, 3, 3, 4, 3, 5, 4, 2, 4, 2]"
            ]
          },
          "metadata": {
            "tags": []
          },
          "execution_count": 43
        }
      ]
    },
    {
      "cell_type": "code",
      "metadata": {
        "colab": {
          "base_uri": "https://localhost:8080/"
        },
        "id": "u4QtUkyiCfVz",
        "outputId": "042ab4c5-83f8-4fb1-b37e-d47ded4fdc57"
      },
      "source": [
        "num.pop(2)\n",
        "num"
      ],
      "execution_count": null,
      "outputs": [
        {
          "output_type": "execute_result",
          "data": {
            "text/plain": [
              "[0, 1, 3, 4, 3, 5, 4, 2, 4, 2]"
            ]
          },
          "metadata": {
            "tags": []
          },
          "execution_count": 44
        }
      ]
    },
    {
      "cell_type": "code",
      "metadata": {
        "colab": {
          "base_uri": "https://localhost:8080/"
        },
        "id": "d80R59g1Cl3S",
        "outputId": "c8fa011b-bf5c-4cb5-e80e-749fd391ff16"
      },
      "source": [
        "num.count(3)"
      ],
      "execution_count": null,
      "outputs": [
        {
          "output_type": "execute_result",
          "data": {
            "text/plain": [
              "2"
            ]
          },
          "metadata": {
            "tags": []
          },
          "execution_count": 45
        }
      ]
    },
    {
      "cell_type": "code",
      "metadata": {
        "colab": {
          "base_uri": "https://localhost:8080/"
        },
        "id": "08OyZcA-DVmo",
        "outputId": "1ad1afaa-5b5d-40d7-e54c-508f571a688c"
      },
      "source": [
        "num.sort() #reverse??\n",
        "num"
      ],
      "execution_count": null,
      "outputs": [
        {
          "output_type": "execute_result",
          "data": {
            "text/plain": [
              "[0, 1, 2, 2, 3, 3, 4, 4, 4, 5]"
            ]
          },
          "metadata": {
            "tags": []
          },
          "execution_count": 50
        }
      ]
    },
    {
      "cell_type": "code",
      "metadata": {
        "colab": {
          "base_uri": "https://localhost:8080/"
        },
        "id": "TA1e5R3VDb34",
        "outputId": "8f7d278f-40d1-4d34-f15d-2aa8ce8abbc5"
      },
      "source": [
        "num_copy = num.copy()\n",
        "num_copy"
      ],
      "execution_count": null,
      "outputs": [
        {
          "output_type": "execute_result",
          "data": {
            "text/plain": [
              "[0, 1, 2, 2, 3, 3, 4, 4, 4, 5]"
            ]
          },
          "metadata": {
            "tags": []
          },
          "execution_count": 51
        }
      ]
    },
    {
      "cell_type": "code",
      "metadata": {
        "colab": {
          "base_uri": "https://localhost:8080/"
        },
        "id": "levwcIKoD5x3",
        "outputId": "6876f782-0a9b-488e-8a23-2b96c4e4fe41"
      },
      "source": [
        "num_copy.clear()\n",
        "num_copy"
      ],
      "execution_count": null,
      "outputs": [
        {
          "output_type": "execute_result",
          "data": {
            "text/plain": [
              "[]"
            ]
          },
          "metadata": {
            "tags": []
          },
          "execution_count": 53
        }
      ]
    },
    {
      "cell_type": "markdown",
      "metadata": {
        "id": "B-a70ErDFDj0"
      },
      "source": [
        "### **List Comprehension**\n",
        "\n",
        "List comprehension offers a shorter syntax when you want to create a new list based on the values of an existing list."
      ]
    },
    {
      "cell_type": "code",
      "metadata": {
        "colab": {
          "base_uri": "https://localhost:8080/"
        },
        "id": "buwL2AOqD_Jo",
        "outputId": "1c69da1c-1dd7-4835-a99a-d2eed86d033c"
      },
      "source": [
        "squares = []\n",
        "\n",
        "for i in range(10):\n",
        "  squares.append(i*i)\n",
        "\n",
        "print(squares)"
      ],
      "execution_count": null,
      "outputs": [
        {
          "output_type": "stream",
          "text": [
            "[0, 1, 4, 9, 16, 25, 36, 49, 64, 81]\n"
          ],
          "name": "stdout"
        }
      ]
    },
    {
      "cell_type": "markdown",
      "metadata": {
        "id": "uGMXaMzZFyaR"
      },
      "source": [
        "### **Nested List**\n",
        "\n",
        "A list can contain any sort object, even another list (sublist), which in turn can contain sublists themselves, and so on. This is known as nested list."
      ]
    },
    {
      "cell_type": "code",
      "metadata": {
        "id": "DIIQSY_3FoC8",
        "colab": {
          "base_uri": "https://localhost:8080/"
        },
        "outputId": "92f8a936-c8a2-45cf-b7ea-0e8c5599ee48"
      },
      "source": [
        "matrix = [[\"a\",\"b\",\"c\"], [1,2,3]]\n",
        "matrix"
      ],
      "execution_count": null,
      "outputs": [
        {
          "output_type": "execute_result",
          "data": {
            "text/plain": [
              "[['a', 'b', 'c'], [1, 2, 3]]"
            ]
          },
          "metadata": {
            "tags": []
          },
          "execution_count": 1
        }
      ]
    },
    {
      "cell_type": "code",
      "metadata": {
        "colab": {
          "base_uri": "https://localhost:8080/"
        },
        "id": "0kkbhEpFJTjf",
        "outputId": "e8169c53-c4d8-4090-d703-8ce9aa423467"
      },
      "source": [
        "print(matrix[0])\n",
        "print(matrix[1])"
      ],
      "execution_count": null,
      "outputs": [
        {
          "output_type": "stream",
          "text": [
            "['a', 'b', 'c']\n",
            "[1, 2, 3]\n"
          ],
          "name": "stdout"
        }
      ]
    },
    {
      "cell_type": "code",
      "metadata": {
        "colab": {
          "base_uri": "https://localhost:8080/"
        },
        "id": "nKAKiCYxJX7y",
        "outputId": "da2774b0-2c5b-4117-e411-882b36634d41"
      },
      "source": [
        "print(matrix[0][0]) # ??\n",
        "print(matrix[1][2]) # ??"
      ],
      "execution_count": null,
      "outputs": [
        {
          "output_type": "stream",
          "text": [
            "a\n",
            "3\n"
          ],
          "name": "stdout"
        }
      ]
    },
    {
      "cell_type": "markdown",
      "metadata": {
        "id": "27iWRemlKdUS"
      },
      "source": [
        "### **Tuples**\n",
        "\n",
        "A tuple is an ordered collection of values.\n",
        "\n",
        "Tuples are a lot like lists:\n",
        "\n",
        " \n",
        "\n",
        "*   Tuples are ordered – Tuples maintains a left-to-right positional ordering among the items they contain.\n",
        "*   Accessed by index – Items in a tuple can be accessed using an index.\n",
        "*   Tuples can contain any sort of object – It can be numbers, strings, lists and even other tuples.\n",
        "\n",
        "except:\n",
        "\n",
        "*   Tuples are immutable – you can’t add, delete, or change items after the tuple is defined.\n",
        "\n",
        "--------------\n",
        "1. Tuples are faster than lists. If you're defining a constant set of values and all you're ever going to do with it is iterate through it, use a tuple instead of a list.\n",
        "\n",
        "2. It makes your code safer if you “write-protect” data that does not need to be changed. Using a tuple instead of a list is like having an implied assert statement that this data is constant, and that special thought (and a specific function) is required to override that.\n",
        "\n",
        "3. Some tuples can be used as dictionary keys (specifically, tuples that contain immutable values like strings, numbers, and other tuples). Lists can never be used as dictionary keys, because lists are not immutable.\n",
        "\n",
        "source: https://www.learnbyexample.org/python-tuple/\n",
        "\n",
        "source: https://stackoverflow.com/a/1708538"
      ]
    },
    {
      "cell_type": "code",
      "metadata": {
        "id": "ertaE5ZjJkbj"
      },
      "source": [
        "# A tuple of integers\n",
        "T = (1, 2, 3)\n",
        "\n",
        "# A tuple of strings\n",
        "C = ('red', 'green', 'blue')\n",
        "\n",
        "# A tuple without parentheses\n",
        "W = 1, 'abc', 1.23, True"
      ],
      "execution_count": null,
      "outputs": []
    },
    {
      "cell_type": "code",
      "metadata": {
        "colab": {
          "base_uri": "https://localhost:8080/",
          "height": 35
        },
        "id": "yLlEtfPZMfRD",
        "outputId": "1f9f61c9-8928-4599-f919-1c9812a73059"
      },
      "source": [
        "C[0]"
      ],
      "execution_count": null,
      "outputs": [
        {
          "output_type": "execute_result",
          "data": {
            "application/vnd.google.colaboratory.intrinsic+json": {
              "type": "string"
            },
            "text/plain": [
              "'red'"
            ]
          },
          "metadata": {
            "tags": []
          },
          "execution_count": 2
        }
      ]
    },
    {
      "cell_type": "code",
      "metadata": {
        "colab": {
          "base_uri": "https://localhost:8080/"
        },
        "id": "fCr0Hub6Mhqg",
        "outputId": "4c6fd641-2e3f-4255-c8cb-77a922e0f644"
      },
      "source": [
        "# Tuples may be nested:\n",
        "\n",
        "new_tuple = W, (\"veri\", \"bilimi\")\n",
        "new_tuple"
      ],
      "execution_count": null,
      "outputs": [
        {
          "output_type": "execute_result",
          "data": {
            "text/plain": [
              "((1, 'abc', 1.23, True), ('veri', 'bilimi'))"
            ]
          },
          "metadata": {
            "tags": []
          },
          "execution_count": 3
        }
      ]
    },
    {
      "cell_type": "code",
      "metadata": {
        "colab": {
          "base_uri": "https://localhost:8080/",
          "height": 162
        },
        "id": "u_PbsZRVM0B9",
        "outputId": "b46809d4-ae76-4c6f-eb31-14453648da00"
      },
      "source": [
        "new_tuple[0][5]"
      ],
      "execution_count": null,
      "outputs": [
        {
          "output_type": "error",
          "ename": "IndexError",
          "evalue": "ignored",
          "traceback": [
            "\u001b[0;31m---------------------------------------------------------------------------\u001b[0m",
            "\u001b[0;31mIndexError\u001b[0m                                Traceback (most recent call last)",
            "\u001b[0;32m<ipython-input-44-c67b4d4133b7>\u001b[0m in \u001b[0;36m<module>\u001b[0;34m()\u001b[0m\n\u001b[0;32m----> 1\u001b[0;31m \u001b[0mnew_tuple\u001b[0m\u001b[0;34m[\u001b[0m\u001b[0;36m0\u001b[0m\u001b[0;34m]\u001b[0m\u001b[0;34m[\u001b[0m\u001b[0;36m5\u001b[0m\u001b[0;34m]\u001b[0m\u001b[0;34m\u001b[0m\u001b[0;34m\u001b[0m\u001b[0m\n\u001b[0m",
            "\u001b[0;31mIndexError\u001b[0m: tuple index out of range"
          ]
        }
      ]
    },
    {
      "cell_type": "markdown",
      "metadata": {
        "id": "SNXdlLvtNCsp"
      },
      "source": [
        "### **Sets**\n",
        "\n",
        "Sets are used to store multiple items in a single variable.\n",
        "\n",
        "The important properties of Python sets are as follows:\n",
        "\n",
        "*   Sets are unordered – Items stored in a set aren’t kept in any particular order.\n",
        "*    Set items are unique – Duplicate items are not allowed.\n",
        "*    Sets are unindexed – You cannot access set items by referring to an index.\n",
        "*     Sets are changeable (mutable) – They can be changed in place, can grow and shrink on demand.\n",
        "\n",
        "source: https://www.learnbyexample.org/python-set/"
      ]
    },
    {
      "cell_type": "code",
      "metadata": {
        "colab": {
          "base_uri": "https://localhost:8080/"
        },
        "id": "jeT-ovrRM465",
        "outputId": "71aede03-ba83-4b89-d01d-6ab52257604d"
      },
      "source": [
        "animals = {\"dog\", \"cat\", \"bird\", \"fish\"}\n",
        "\n",
        "print(animals)"
      ],
      "execution_count": null,
      "outputs": [
        {
          "output_type": "stream",
          "text": [
            "{'cat', 'fish', 'bird', 'dog'}\n"
          ],
          "name": "stdout"
        }
      ]
    },
    {
      "cell_type": "code",
      "metadata": {
        "colab": {
          "base_uri": "https://localhost:8080/"
        },
        "id": "8e4_F_7cP0V4",
        "outputId": "5ab27f44-9604-4bfd-da09-bc32698c7e41"
      },
      "source": [
        "animals.add(\"shark\") #using add() method.\n",
        "print(animals)"
      ],
      "execution_count": null,
      "outputs": [
        {
          "output_type": "stream",
          "text": [
            "{'bird', 'shark', 'fish', 'cat', 'dog'}\n"
          ],
          "name": "stdout"
        }
      ]
    },
    {
      "cell_type": "code",
      "metadata": {
        "colab": {
          "base_uri": "https://localhost:8080/"
        },
        "id": "OvNsO8IyQFzu",
        "outputId": "9c6c36ff-a285-4478-d479-3e7eb27ea675"
      },
      "source": [
        "animals.update([\"butterfly\", \"horse\"]) #using update() method.\n",
        "animals"
      ],
      "execution_count": null,
      "outputs": [
        {
          "output_type": "execute_result",
          "data": {
            "text/plain": [
              "{'bird', 'butterfly', 'cat', 'dog', 'fish', 'horse', 'shark'}"
            ]
          },
          "metadata": {
            "tags": []
          },
          "execution_count": 17
        }
      ]
    },
    {
      "cell_type": "code",
      "metadata": {
        "colab": {
          "base_uri": "https://localhost:8080/"
        },
        "id": "kHzB0PsHQ2eW",
        "outputId": "f58c62fe-ddec-4d42-e03d-eeef8bd1551b"
      },
      "source": [
        "#To remove a single item from a set, use remove() or discard() method.\n",
        "\n",
        "animals.remove(\"bird\")\n",
        "print(animals)\n",
        "animals.discard(\"butterfly\")\n",
        "print(animals)\n",
        "\n",
        "#pop() and clear() methods can also used"
      ],
      "execution_count": null,
      "outputs": [
        {
          "output_type": "stream",
          "text": [
            "{'dog', 'shark', 'fish', 'butterfly', 'horse', 'cat'}\n",
            "{'dog', 'shark', 'fish', 'horse', 'cat'}\n"
          ],
          "name": "stdout"
        }
      ]
    },
    {
      "cell_type": "markdown",
      "metadata": {
        "id": "SBpM2jqyR2Lh"
      },
      "source": [
        "**Curly braces or the set() function can be used to create sets.**\n",
        "\n",
        "---\n",
        "\n",
        "---\n",
        "\n",
        "![Python-Set-Operatioons.png](data:image/png;base64,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)\n",
        "\n"
      ]
    },
    {
      "cell_type": "code",
      "metadata": {
        "colab": {
          "base_uri": "https://localhost:8080/"
        },
        "id": "fteBJGrjS0IJ",
        "outputId": "14445550-73a2-4c8c-c841-b00475d3a851"
      },
      "source": [
        "b = set(\"basketball\")\n",
        "b"
      ],
      "execution_count": null,
      "outputs": [
        {
          "output_type": "execute_result",
          "data": {
            "text/plain": [
              "{'a', 'b', 'e', 'k', 'l', 's', 't'}"
            ]
          },
          "metadata": {
            "tags": []
          },
          "execution_count": 3
        }
      ]
    },
    {
      "cell_type": "code",
      "metadata": {
        "id": "IVyG-hBzUrEg",
        "colab": {
          "base_uri": "https://localhost:8080/"
        },
        "outputId": "c47cb8ff-81d1-43d0-ff83-f5204caf50c3"
      },
      "source": [
        "f = set(\"football\")\n",
        "f"
      ],
      "execution_count": null,
      "outputs": [
        {
          "output_type": "execute_result",
          "data": {
            "text/plain": [
              "{'a', 'b', 'f', 'l', 'o', 't'}"
            ]
          },
          "metadata": {
            "tags": []
          },
          "execution_count": 4
        }
      ]
    },
    {
      "cell_type": "code",
      "metadata": {
        "colab": {
          "base_uri": "https://localhost:8080/"
        },
        "id": "KFzSGGqEK_xy",
        "outputId": "ad8a0405-73fc-42f1-8700-6cc141e0ec41"
      },
      "source": [
        "b | f #union"
      ],
      "execution_count": null,
      "outputs": [
        {
          "output_type": "execute_result",
          "data": {
            "text/plain": [
              "{'a', 'b', 'e', 'f', 'k', 'l', 'o', 's', 't'}"
            ]
          },
          "metadata": {
            "tags": []
          },
          "execution_count": 8
        }
      ]
    },
    {
      "cell_type": "code",
      "metadata": {
        "colab": {
          "base_uri": "https://localhost:8080/"
        },
        "id": "qdbJx8tVLDkN",
        "outputId": "e0b2ac77-7f6b-43ac-a66d-cfda38798b06"
      },
      "source": [
        "b & f #intersection "
      ],
      "execution_count": null,
      "outputs": [
        {
          "output_type": "execute_result",
          "data": {
            "text/plain": [
              "{'a', 'b', 'l', 't'}"
            ]
          },
          "metadata": {
            "tags": []
          },
          "execution_count": 9
        }
      ]
    },
    {
      "cell_type": "code",
      "metadata": {
        "colab": {
          "base_uri": "https://localhost:8080/"
        },
        "id": "pvwmBQFsNGly",
        "outputId": "ce77c5f1-f142-4ff1-ff79-d423f3fc6885"
      },
      "source": [
        "b - f #difference"
      ],
      "execution_count": null,
      "outputs": [
        {
          "output_type": "execute_result",
          "data": {
            "text/plain": [
              "{'e', 'k', 's'}"
            ]
          },
          "metadata": {
            "tags": []
          },
          "execution_count": 10
        }
      ]
    },
    {
      "cell_type": "code",
      "metadata": {
        "colab": {
          "base_uri": "https://localhost:8080/"
        },
        "id": "2RKo1HD0NNYu",
        "outputId": "1f0c533d-c6df-4dd8-9370-2e5615cd7f75"
      },
      "source": [
        "b ^ f #symmetric difference"
      ],
      "execution_count": null,
      "outputs": [
        {
          "output_type": "execute_result",
          "data": {
            "text/plain": [
              "{'e', 'f', 'k', 'o', 's'}"
            ]
          },
          "metadata": {
            "tags": []
          },
          "execution_count": 11
        }
      ]
    },
    {
      "cell_type": "markdown",
      "metadata": {
        "id": "VWMOwqybUhbs"
      },
      "source": [
        "## **Dictionaries**\n",
        "\n",
        "Python dictionary is an unordered collection of items. Each item of a dictionary has a **key/value** pair.\n",
        "\n",
        "Dictionaries are optimized to retrieve values when the key is known.\n",
        "\n",
        "Creating a dictionary is as simple as placing items inside curly braces {} separated by commas."
      ]
    },
    {
      "cell_type": "code",
      "metadata": {
        "colab": {
          "base_uri": "https://localhost:8080/"
        },
        "id": "usDWkwx-NbCq",
        "outputId": "7023647c-de4c-4973-c0be-afb546b4392a"
      },
      "source": [
        "  dict = {\"name\": \"hasret\", \"surname\": \"doğuer\", \"age\" : 23}\n",
        "  dict"
      ],
      "execution_count": null,
      "outputs": [
        {
          "output_type": "execute_result",
          "data": {
            "text/plain": [
              "{'age': 23, 'name': 'hasret', 'surname': 'doğuer'}"
            ]
          },
          "metadata": {
            "tags": []
          },
          "execution_count": 24
        }
      ]
    },
    {
      "cell_type": "code",
      "metadata": {
        "colab": {
          "base_uri": "https://localhost:8080/",
          "height": 35
        },
        "id": "yg9W1a9nVpoc",
        "outputId": "a14d0115-0b2b-4078-e180-1823961f61f0"
      },
      "source": [
        "dict[\"name\"]"
      ],
      "execution_count": null,
      "outputs": [
        {
          "output_type": "execute_result",
          "data": {
            "application/vnd.google.colaboratory.intrinsic+json": {
              "type": "string"
            },
            "text/plain": [
              "'hasret'"
            ]
          },
          "metadata": {
            "tags": []
          },
          "execution_count": 25
        }
      ]
    },
    {
      "cell_type": "code",
      "metadata": {
        "colab": {
          "base_uri": "https://localhost:8080/"
        },
        "id": "L4UZWoJstYn2",
        "outputId": "3036a082-4be6-4819-d41c-97a3d0801ec8"
      },
      "source": [
        "dict.get(\"age\")"
      ],
      "execution_count": null,
      "outputs": [
        {
          "output_type": "execute_result",
          "data": {
            "text/plain": [
              "23"
            ]
          },
          "metadata": {
            "tags": []
          },
          "execution_count": 26
        }
      ]
    },
    {
      "cell_type": "code",
      "metadata": {
        "colab": {
          "base_uri": "https://localhost:8080/"
        },
        "id": "uMYQ-n0VtkZx",
        "outputId": "5b048ae8-2e80-4fe2-bb64-a514c6c5162b"
      },
      "source": [
        "dict[\"age\"] = 10\n",
        "dict"
      ],
      "execution_count": null,
      "outputs": [
        {
          "output_type": "execute_result",
          "data": {
            "text/plain": [
              "{'age': 10, 'name': 'hasret', 'surname': 'doğuer'}"
            ]
          },
          "metadata": {
            "tags": []
          },
          "execution_count": 27
        }
      ]
    },
    {
      "cell_type": "code",
      "metadata": {
        "colab": {
          "base_uri": "https://localhost:8080/"
        },
        "id": "vK8Djfy3V75t",
        "outputId": "9f1eb0df-1541-4df2-aff9-dd682bd6e3d3"
      },
      "source": [
        "dict[\"university\"] = \"aybu\"\n",
        "dict"
      ],
      "execution_count": null,
      "outputs": [
        {
          "output_type": "execute_result",
          "data": {
            "text/plain": [
              "{'age': 10, 'name': 'hasret', 'surname': 'doğuer', 'university': 'aybu'}"
            ]
          },
          "metadata": {
            "tags": []
          },
          "execution_count": 28
        }
      ]
    },
    {
      "cell_type": "code",
      "metadata": {
        "colab": {
          "base_uri": "https://localhost:8080/"
        },
        "id": "q8JqUQMBofbr",
        "outputId": "0e3b3efc-6db8-4e9f-e675-6ac4843b4049"
      },
      "source": [
        "del dict[\"age\"]\n",
        "dict"
      ],
      "execution_count": null,
      "outputs": [
        {
          "output_type": "execute_result",
          "data": {
            "text/plain": [
              "{'name': 'hasret', 'surname': 'doğuer', 'university': 'aybu'}"
            ]
          },
          "metadata": {
            "tags": []
          },
          "execution_count": 29
        }
      ]
    },
    {
      "cell_type": "markdown",
      "metadata": {
        "id": "vzIGOxX5un1I"
      },
      "source": [
        "### **Looping Techniques**\n",
        "\n",
        "When looping through dictionaries, the key and corresponding value can be retrieved at the same time using the items() method."
      ]
    },
    {
      "cell_type": "code",
      "metadata": {
        "colab": {
          "base_uri": "https://localhost:8080/"
        },
        "id": "9aOLnldys0e8",
        "outputId": "c1074b0c-6178-4b47-c956-3d24ad377a0e"
      },
      "source": [
        "for i,k in dict.items():\n",
        "  print(i,k)"
      ],
      "execution_count": null,
      "outputs": [
        {
          "output_type": "stream",
          "text": [
            "name hasret\n",
            "surname doğuer\n",
            "university aybu\n"
          ],
          "name": "stdout"
        }
      ]
    },
    {
      "cell_type": "markdown",
      "metadata": {
        "id": "p6ZoZBq6vNBG"
      },
      "source": [
        "When looping through a sequence, the position index and corresponding value can be retrieved at the same time using the **enumerate()** function."
      ]
    },
    {
      "cell_type": "code",
      "metadata": {
        "colab": {
          "base_uri": "https://localhost:8080/"
        },
        "id": "v_-r1QebuzaS",
        "outputId": "c4ce7990-3556-4390-811c-aae0f42347ba"
      },
      "source": [
        "for i, k in enumerate([\"istatistik\", \"ve\", \"veri\", \"bilimi\"]):\n",
        "  print(i,k)"
      ],
      "execution_count": null,
      "outputs": [
        {
          "output_type": "stream",
          "text": [
            "0 istatistik\n",
            "1 ve\n",
            "2 veri\n",
            "3 bilimi\n"
          ],
          "name": "stdout"
        }
      ]
    },
    {
      "cell_type": "markdown",
      "metadata": {
        "id": "37Qucodwvi-f"
      },
      "source": [
        "To loop over two or more sequences at the same time, the entries can be paired with the **zip()** function."
      ]
    },
    {
      "cell_type": "code",
      "metadata": {
        "colab": {
          "base_uri": "https://localhost:8080/"
        },
        "id": "s2UeRtGuvcj4",
        "outputId": "e935fdb9-dccd-40ef-bd88-54e23f1d3ca2"
      },
      "source": [
        "questions = ['name', 'age', 'favorite color']\n",
        "answers = ['hasret', 23, 'purple']\n",
        "for q, a in zip(questions, answers):\n",
        "  print('What is your {0}?  It is {1}.'.format(q, a))"
      ],
      "execution_count": null,
      "outputs": [
        {
          "output_type": "stream",
          "text": [
            "What is your name?  It is hasret.\n",
            "What is your age?  It is 23.\n",
            "What is your favorite color?  It is purple.\n"
          ],
          "name": "stdout"
        }
      ]
    },
    {
      "cell_type": "code",
      "metadata": {
        "id": "FSgEIUiZvxWl",
        "colab": {
          "base_uri": "https://localhost:8080/"
        },
        "outputId": "7fe2dbc1-0e91-44c3-c231-022d19604bd3"
      },
      "source": [
        "grades = {\"hasret\":{\"grade\":50, \"id\": 4242}, \"mehmet\":{\"grade\": 60, \"id\":1010}, \"esra\":{\"grade\": 70, \"id\":2020}}\n",
        "grades"
      ],
      "execution_count": null,
      "outputs": [
        {
          "output_type": "execute_result",
          "data": {
            "text/plain": [
              "{'esra': {'grade': 70, 'id': 2020},\n",
              " 'hasret': {'grade': 50, 'id': 4242},\n",
              " 'mehmet': {'grade': 60, 'id': 1010}}"
            ]
          },
          "metadata": {
            "tags": []
          },
          "execution_count": 1
        }
      ]
    },
    {
      "cell_type": "code",
      "metadata": {
        "colab": {
          "base_uri": "https://localhost:8080/"
        },
        "id": "SSa35FI3xotk",
        "outputId": "30d44a91-97c1-4e81-9ef8-879a80ad8f20"
      },
      "source": [
        "print(grades[\"hasret\"])\n"
      ],
      "execution_count": null,
      "outputs": [
        {
          "output_type": "stream",
          "text": [
            "{'grade': 50, 'id': 4242}\n"
          ],
          "name": "stdout"
        }
      ]
    },
    {
      "cell_type": "code",
      "metadata": {
        "colab": {
          "base_uri": "https://localhost:8080/"
        },
        "id": "bC8ppa-Wx0Wy",
        "outputId": "463366ce-6326-4266-ed9f-40aa684f5a55"
      },
      "source": [
        "print(grades[\"hasret\"][\"grade\"])"
      ],
      "execution_count": null,
      "outputs": [
        {
          "output_type": "stream",
          "text": [
            "50\n"
          ],
          "name": "stdout"
        }
      ]
    },
    {
      "cell_type": "code",
      "metadata": {
        "colab": {
          "base_uri": "https://localhost:8080/"
        },
        "id": "3SI_eGF3x3Wq",
        "outputId": "d7900a9c-b668-41a0-8134-cb2a243e333c"
      },
      "source": [
        "grades[\"hasret\"][\"grade\"] = 60\n",
        "grades"
      ],
      "execution_count": null,
      "outputs": [
        {
          "output_type": "execute_result",
          "data": {
            "text/plain": [
              "{'esra': {'grade': 70, 'id': 2020},\n",
              " 'hasret': {'grade': 60, 'id': 4242},\n",
              " 'mehmet': {'grade': 60, 'id': 1010}}"
            ]
          },
          "metadata": {
            "tags": []
          },
          "execution_count": 5
        }
      ]
    },
    {
      "cell_type": "code",
      "metadata": {
        "colab": {
          "base_uri": "https://localhost:8080/"
        },
        "id": "r2_nXDKmDLUh",
        "outputId": "7eafaac0-eecf-4019-d995-15f311c57aa3"
      },
      "source": [
        "grades[\"hasret\"][\"grade\"] = grades[\"hasret\"][\"grade\"] + 5\n",
        "grades"
      ],
      "execution_count": null,
      "outputs": [
        {
          "output_type": "execute_result",
          "data": {
            "text/plain": [
              "{'esra': {'grade': 70, 'id': 2020},\n",
              " 'hasret': {'grade': 65, 'id': 4242},\n",
              " 'mehmet': {'grade': 60, 'id': 1010}}"
            ]
          },
          "metadata": {
            "tags": []
          },
          "execution_count": 7
        }
      ]
    },
    {
      "cell_type": "code",
      "metadata": {
        "colab": {
          "base_uri": "https://localhost:8080/"
        },
        "id": "yrc6y5HpDdvZ",
        "outputId": "5f3bd0fb-c9a2-4269-b5f5-571839933b16"
      },
      "source": [
        "len(grades) #??\n"
      ],
      "execution_count": null,
      "outputs": [
        {
          "output_type": "execute_result",
          "data": {
            "text/plain": [
              "3"
            ]
          },
          "metadata": {
            "tags": []
          },
          "execution_count": 8
        }
      ]
    },
    {
      "cell_type": "code",
      "metadata": {
        "colab": {
          "base_uri": "https://localhost:8080/"
        },
        "id": "elzBi3XvDkZm",
        "outputId": "1c910912-1015-4f04-a737-01fcfbed4555"
      },
      "source": [
        "len(grades[\"hasret\"]) #??"
      ],
      "execution_count": null,
      "outputs": [
        {
          "output_type": "execute_result",
          "data": {
            "text/plain": [
              "2"
            ]
          },
          "metadata": {
            "tags": []
          },
          "execution_count": 9
        }
      ]
    },
    {
      "cell_type": "code",
      "metadata": {
        "colab": {
          "base_uri": "https://localhost:8080/"
        },
        "id": "juZcT4jIDrOb",
        "outputId": "e300262f-4f89-462d-a24d-a68d2ee03b46"
      },
      "source": [
        "del grades[\"hasret\"]\n",
        "del grades[\"mehmet\"][\"grade\"]\n",
        "grades"
      ],
      "execution_count": null,
      "outputs": [
        {
          "output_type": "execute_result",
          "data": {
            "text/plain": [
              "{'esra': {'grade': 70, 'id': 2020}, 'mehmet': {'id': 1010}}"
            ]
          },
          "metadata": {
            "tags": []
          },
          "execution_count": 10
        }
      ]
    },
    {
      "cell_type": "code",
      "metadata": {
        "colab": {
          "base_uri": "https://localhost:8080/"
        },
        "id": "CRsF-nYgD4TC",
        "outputId": "cfe8ef1a-f577-40a1-cecf-4883a1d43fbf"
      },
      "source": [
        "grades = {}\n",
        "grades"
      ],
      "execution_count": null,
      "outputs": [
        {
          "output_type": "execute_result",
          "data": {
            "text/plain": [
              "{}"
            ]
          },
          "metadata": {
            "tags": []
          },
          "execution_count": 19
        }
      ]
    },
    {
      "cell_type": "code",
      "metadata": {
        "colab": {
          "base_uri": "https://localhost:8080/"
        },
        "id": "c4NiVthQECSL",
        "outputId": "825e8599-4dd2-4e29-d601-e6c85165d403"
      },
      "source": [
        "grades[\"id\"] = 50\n",
        "grades"
      ],
      "execution_count": null,
      "outputs": [
        {
          "output_type": "execute_result",
          "data": {
            "text/plain": [
              "{'id': 50}"
            ]
          },
          "metadata": {
            "tags": []
          },
          "execution_count": 20
        }
      ]
    },
    {
      "cell_type": "markdown",
      "metadata": {
        "id": "eMKfjW-9GBFe"
      },
      "source": [
        "# **Functions**\n",
        "\n",
        "A function is a block of code which only runs when it is called.\n",
        "\n",
        "You can pass data, known as parameters, into a function.\n",
        "\n",
        "A function can return data as a result."
      ]
    },
    {
      "cell_type": "code",
      "metadata": {
        "colab": {
          "base_uri": "https://localhost:8080/"
        },
        "id": "ifT3H--gEMhm",
        "outputId": "7ba60868-b588-4f1f-a673-8c477e76d886"
      },
      "source": [
        "def hello():\n",
        "  print(\"Hello World\")\n",
        "\n",
        "hello()"
      ],
      "execution_count": null,
      "outputs": [
        {
          "output_type": "stream",
          "text": [
            "Hello World\n"
          ],
          "name": "stdout"
        }
      ]
    },
    {
      "cell_type": "code",
      "metadata": {
        "colab": {
          "base_uri": "https://localhost:8080/"
        },
        "id": "GLr7U6YBK21D",
        "outputId": "a0fbc817-4cbb-4a15-8f63-5252b3caa225"
      },
      "source": [
        "def desi(en, boy, yükseklik):\n",
        "  print(en * boy * yükseklik / 3000)\n",
        "\n",
        "desi(30,40,50)"
      ],
      "execution_count": null,
      "outputs": [
        {
          "output_type": "stream",
          "text": [
            "20.0\n"
          ],
          "name": "stdout"
        }
      ]
    },
    {
      "cell_type": "code",
      "metadata": {
        "colab": {
          "base_uri": "https://localhost:8080/"
        },
        "id": "TtxR3SltLNbA",
        "outputId": "7d897993-7b46-4a2c-fa8f-2c417fb43f25"
      },
      "source": [
        "desi(100,200,300)"
      ],
      "execution_count": null,
      "outputs": [
        {
          "output_type": "stream",
          "text": [
            "2000.0\n"
          ],
          "name": "stdout"
        }
      ]
    },
    {
      "cell_type": "code",
      "metadata": {
        "id": "_Z3TBh3oLarX"
      },
      "source": [
        "def desi(en,boy, yükseklik):\n",
        "  result = en * boy * yükseklik / 3000\n",
        "  return result\n",
        "\n",
        "desi_result = desi(100,200,300)"
      ],
      "execution_count": null,
      "outputs": []
    },
    {
      "cell_type": "code",
      "metadata": {
        "colab": {
          "base_uri": "https://localhost:8080/"
        },
        "id": "lyDheSfHLoYI",
        "outputId": "4cf391c7-5492-4cdc-cafd-aa7af7598597"
      },
      "source": [
        "desi_result"
      ],
      "execution_count": null,
      "outputs": [
        {
          "output_type": "execute_result",
          "data": {
            "text/plain": [
              "2000.0"
            ]
          },
          "metadata": {
            "tags": []
          },
          "execution_count": 33
        }
      ]
    },
    {
      "cell_type": "code",
      "metadata": {
        "colab": {
          "base_uri": "https://localhost:8080/"
        },
        "id": "YqLd-8SzLuHe",
        "outputId": "3075c496-7c89-41c6-cf27-e73732b0265e"
      },
      "source": [
        "desi_result / 2"
      ],
      "execution_count": null,
      "outputs": [
        {
          "output_type": "execute_result",
          "data": {
            "text/plain": [
              "1000.0"
            ]
          },
          "metadata": {
            "tags": []
          },
          "execution_count": 34
        }
      ]
    },
    {
      "cell_type": "markdown",
      "metadata": {
        "id": "GPqNhskWM08f"
      },
      "source": [
        "### **Split Join**"
      ]
    },
    {
      "cell_type": "code",
      "metadata": {
        "colab": {
          "base_uri": "https://localhost:8080/"
        },
        "id": "bd4LGWFrMFtf",
        "outputId": "e892265d-34c6-4d32-e939-c051ea316e09"
      },
      "source": [
        "name = \"istatistik ve veri bilimi\"\n",
        "\n",
        "name.split()"
      ],
      "execution_count": null,
      "outputs": [
        {
          "output_type": "execute_result",
          "data": {
            "text/plain": [
              "['istatistik', 've', 'veri', 'bilimi']"
            ]
          },
          "metadata": {
            "tags": []
          },
          "execution_count": 38
        }
      ]
    },
    {
      "cell_type": "code",
      "metadata": {
        "id": "BbRT2qhfNW2e"
      },
      "source": [
        "array = name.split()"
      ],
      "execution_count": null,
      "outputs": []
    },
    {
      "cell_type": "code",
      "metadata": {
        "colab": {
          "base_uri": "https://localhost:8080/",
          "height": 35
        },
        "id": "FGXPvFH5NeMU",
        "outputId": "3bb2d01d-81c2-47f0-834f-380e72a81153"
      },
      "source": [
        "array[0]"
      ],
      "execution_count": null,
      "outputs": [
        {
          "output_type": "execute_result",
          "data": {
            "application/vnd.google.colaboratory.intrinsic+json": {
              "type": "string"
            },
            "text/plain": [
              "'istatistik'"
            ]
          },
          "metadata": {
            "tags": []
          },
          "execution_count": 41
        }
      ]
    },
    {
      "cell_type": "code",
      "metadata": {
        "colab": {
          "base_uri": "https://localhost:8080/"
        },
        "id": "2A_5KccINj4u",
        "outputId": "e7c082d3-88d2-47e3-f198-d52fb53fe08f"
      },
      "source": [
        "name = \"istatistik ve veri bilimi\"\n",
        "name.split(\"veri\")"
      ],
      "execution_count": null,
      "outputs": [
        {
          "output_type": "execute_result",
          "data": {
            "text/plain": [
              "['istatistik ve ', ' bilimi']"
            ]
          },
          "metadata": {
            "tags": []
          },
          "execution_count": 45
        }
      ]
    },
    {
      "cell_type": "code",
      "metadata": {
        "colab": {
          "base_uri": "https://localhost:8080/"
        },
        "id": "Sqa192VjNp4g",
        "outputId": "6566da84-d6f5-49cf-9ca9-39ec51f194c0"
      },
      "source": [
        "name = list(\"istatistik ve veri bilimi\")\n",
        "name"
      ],
      "execution_count": null,
      "outputs": [
        {
          "output_type": "execute_result",
          "data": {
            "text/plain": [
              "['i',\n",
              " 's',\n",
              " 't',\n",
              " 'a',\n",
              " 't',\n",
              " 'i',\n",
              " 's',\n",
              " 't',\n",
              " 'i',\n",
              " 'k',\n",
              " ' ',\n",
              " 'v',\n",
              " 'e',\n",
              " ' ',\n",
              " 'v',\n",
              " 'e',\n",
              " 'r',\n",
              " 'i',\n",
              " ' ',\n",
              " 'b',\n",
              " 'i',\n",
              " 'l',\n",
              " 'i',\n",
              " 'm',\n",
              " 'i']"
            ]
          },
          "metadata": {
            "tags": []
          },
          "execution_count": 35
        }
      ]
    },
    {
      "cell_type": "code",
      "metadata": {
        "colab": {
          "base_uri": "https://localhost:8080/",
          "height": 35
        },
        "id": "KrCpPC3BOVNu",
        "outputId": "19bd5dc1-4364-4523-afb3-f97d73305458"
      },
      "source": [
        "\"\".join(name)"
      ],
      "execution_count": null,
      "outputs": [
        {
          "output_type": "execute_result",
          "data": {
            "application/vnd.google.colaboratory.intrinsic+json": {
              "type": "string"
            },
            "text/plain": [
              "'istatistik ve veri bilimi'"
            ]
          },
          "metadata": {
            "tags": []
          },
          "execution_count": 50
        }
      ]
    },
    {
      "cell_type": "markdown",
      "metadata": {
        "id": "FGmv8q_HQFVL"
      },
      "source": [
        "### **Input**"
      ]
    },
    {
      "cell_type": "code",
      "metadata": {
        "colab": {
          "base_uri": "https://localhost:8080/"
        },
        "id": "EIXhJCyoQCI5",
        "outputId": "86866981-1086-4bb6-ccb1-7882c7022a55"
      },
      "source": [
        "age = input(\"WHAT IS YOUR AGE?\")"
      ],
      "execution_count": null,
      "outputs": [
        {
          "output_type": "stream",
          "text": [
            "WHAT IS YOUR AGE?23\n"
          ],
          "name": "stdout"
        }
      ]
    },
    {
      "cell_type": "code",
      "metadata": {
        "colab": {
          "base_uri": "https://localhost:8080/",
          "height": 178
        },
        "id": "MMZUNh_QQM-B",
        "outputId": "12c120a5-5a19-4c63-b546-2534d9b78879"
      },
      "source": [
        "birth = 2021 - age\n",
        "print(birth)"
      ],
      "execution_count": null,
      "outputs": [
        {
          "output_type": "error",
          "ename": "TypeError",
          "evalue": "ignored",
          "traceback": [
            "\u001b[0;31m---------------------------------------------------------------------------\u001b[0m",
            "\u001b[0;31mTypeError\u001b[0m                                 Traceback (most recent call last)",
            "\u001b[0;32m<ipython-input-57-a57955d003ca>\u001b[0m in \u001b[0;36m<module>\u001b[0;34m()\u001b[0m\n\u001b[0;32m----> 1\u001b[0;31m \u001b[0mbirth\u001b[0m \u001b[0;34m=\u001b[0m \u001b[0;36m2021\u001b[0m \u001b[0;34m-\u001b[0m \u001b[0mage\u001b[0m\u001b[0;34m\u001b[0m\u001b[0;34m\u001b[0m\u001b[0m\n\u001b[0m\u001b[1;32m      2\u001b[0m \u001b[0mprint\u001b[0m\u001b[0;34m(\u001b[0m\u001b[0mbirth\u001b[0m\u001b[0;34m)\u001b[0m\u001b[0;34m\u001b[0m\u001b[0;34m\u001b[0m\u001b[0m\n",
            "\u001b[0;31mTypeError\u001b[0m: unsupported operand type(s) for -: 'int' and 'str'"
          ]
        }
      ]
    },
    {
      "cell_type": "markdown",
      "metadata": {
        "id": "CExhwdp3RWDq"
      },
      "source": [
        "### **Print**"
      ]
    },
    {
      "cell_type": "code",
      "metadata": {
        "colab": {
          "base_uri": "https://localhost:8080/"
        },
        "id": "j0FxUHNZQPT8",
        "outputId": "71c5bc86-92e6-41d2-f447-445cd2c0ad75"
      },
      "source": [
        "print(\"Hello\", \"how are you?\")"
      ],
      "execution_count": null,
      "outputs": [
        {
          "output_type": "stream",
          "text": [
            "Hello how are you?\n"
          ],
          "name": "stdout"
        }
      ]
    },
    {
      "cell_type": "code",
      "metadata": {
        "colab": {
          "base_uri": "https://localhost:8080/"
        },
        "id": "AEVwOA1aRf23",
        "outputId": "3ca76c39-95b8-4057-a2f5-950a43f479b7"
      },
      "source": [
        "print(\"Hello\", \"how are you?\", sep=\"---\")"
      ],
      "execution_count": null,
      "outputs": [
        {
          "output_type": "stream",
          "text": [
            "Hello---how are you?\n"
          ],
          "name": "stdout"
        }
      ]
    },
    {
      "cell_type": "code",
      "metadata": {
        "colab": {
          "base_uri": "https://localhost:8080/"
        },
        "id": "zah0hZfCRjkG",
        "outputId": "3ff38c32-07e1-4880-ad76-a44a7fd1bb4b"
      },
      "source": [
        "print(\"The answer is\", 21*2)"
      ],
      "execution_count": null,
      "outputs": [
        {
          "output_type": "stream",
          "text": [
            "The answer is 42\n"
          ],
          "name": "stdout"
        }
      ]
    },
    {
      "cell_type": "code",
      "metadata": {
        "colab": {
          "base_uri": "https://localhost:8080/"
        },
        "id": "dIQjPBoDR4QO",
        "outputId": "83482ded-ea9f-4783-8643-cffb3b19942b"
      },
      "source": [
        "print(\"istatistik\", end=\" \")\n",
        "print(\"ve veri bilimi\")\n",
        "print(\"kulübü\")"
      ],
      "execution_count": null,
      "outputs": [
        {
          "output_type": "stream",
          "text": [
            "istatistik ve veri bilimi\n",
            "kulübü\n"
          ],
          "name": "stdout"
        }
      ]
    },
    {
      "cell_type": "code",
      "metadata": {
        "colab": {
          "base_uri": "https://localhost:8080/"
        },
        "id": "PNW4shmWSIGs",
        "outputId": "1c441577-7331-443d-fbbf-e1320d1817b3"
      },
      "source": [
        "name = \"istatistik\"\n",
        "name2 = \"veri bilimi\"\n",
        "\n",
        "print('{0} ve {1}'.format(name, name2))"
      ],
      "execution_count": null,
      "outputs": [
        {
          "output_type": "stream",
          "text": [
            "istatistik ve veri bilimi\n"
          ],
          "name": "stdout"
        }
      ]
    },
    {
      "cell_type": "code",
      "metadata": {
        "colab": {
          "base_uri": "https://localhost:8080/"
        },
        "id": "FxjhV8sQSi2T",
        "outputId": "7852c0fe-696b-4c5c-8ea2-eaa63987c23c"
      },
      "source": [
        "print('%s ve %s ' % (name, name2)) #outdated"
      ],
      "execution_count": null,
      "outputs": [
        {
          "output_type": "stream",
          "text": [
            "istatistik ve veri bilimi \n"
          ],
          "name": "stdout"
        }
      ]
    },
    {
      "cell_type": "markdown",
      "metadata": {
        "id": "mQrvZQglUtWi"
      },
      "source": [
        "min -max"
      ]
    },
    {
      "cell_type": "code",
      "metadata": {
        "colab": {
          "base_uri": "https://localhost:8080/"
        },
        "id": "Ai2HtsOqS66W",
        "outputId": "2085d1b7-c37c-462a-d92a-33fd4a58751b"
      },
      "source": [
        "nums = [1,2,3,4,5,6,7,8,9]\n",
        "print(min(nums))\n",
        "print(max(nums))"
      ],
      "execution_count": null,
      "outputs": [
        {
          "output_type": "stream",
          "text": [
            "1\n",
            "9\n"
          ],
          "name": "stdout"
        }
      ]
    },
    {
      "cell_type": "markdown",
      "metadata": {
        "id": "k6JNYhdLU6la"
      },
      "source": [
        "map()\n",
        "\n",
        "The map() function executes a specified function for each item in an iterable. The item is sent to the function as a parameter.\n",
        "\n"
      ]
    },
    {
      "cell_type": "code",
      "metadata": {
        "colab": {
          "base_uri": "https://localhost:8080/"
        },
        "id": "ZgTnqwGcUFCQ",
        "outputId": "34e7bc32-6d4d-4567-969b-2177968494a7"
      },
      "source": [
        "def myfunc(n):\n",
        "  return len(n)\n",
        "\n",
        "x = map(myfunc, ('apple', 'banana', 'cherry'))\n",
        "\n",
        "print(x)\n",
        "\n",
        "#convert the map into a list, for readability:\n",
        "print(list(x))\n"
      ],
      "execution_count": null,
      "outputs": [
        {
          "output_type": "stream",
          "text": [
            "<map object at 0x7fb021326210>\n",
            "[5, 6, 6]\n"
          ],
          "name": "stdout"
        }
      ]
    },
    {
      "cell_type": "markdown",
      "metadata": {
        "id": "4XfVIxqLVUV6"
      },
      "source": [
        "lambda"
      ]
    },
    {
      "cell_type": "code",
      "metadata": {
        "colab": {
          "base_uri": "https://localhost:8080/"
        },
        "id": "5Bk0qHRvWg9H",
        "outputId": "f8eb5692-50dc-4217-e75d-18c1d667ae8c"
      },
      "source": [
        "x = lambda a : a + 10\n",
        "print(x(5))"
      ],
      "execution_count": null,
      "outputs": [
        {
          "output_type": "stream",
          "text": [
            "15\n"
          ],
          "name": "stdout"
        }
      ]
    },
    {
      "cell_type": "code",
      "metadata": {
        "id": "96HRHQzYWhWt"
      },
      "source": [
        "def x(a):\n",
        "  return a+10"
      ],
      "execution_count": null,
      "outputs": []
    },
    {
      "cell_type": "code",
      "metadata": {
        "colab": {
          "base_uri": "https://localhost:8080/"
        },
        "id": "768JhOYZWt-o",
        "outputId": "29a675cd-0046-4335-ff95-7dc36a3131f4"
      },
      "source": [
        "print(x(5))"
      ],
      "execution_count": null,
      "outputs": [
        {
          "output_type": "stream",
          "text": [
            "15\n"
          ],
          "name": "stdout"
        }
      ]
    },
    {
      "cell_type": "code",
      "metadata": {
        "id": "0qF0Cop3Wvrh"
      },
      "source": [
        ""
      ],
      "execution_count": null,
      "outputs": []
    }
  ]
}